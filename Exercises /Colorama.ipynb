{
 "cells": [
  {
   "cell_type": "markdown",
   "metadata": {},
   "source": [
    "# Use Colorama\n",
    "\n"
   ]
  },
  {
   "cell_type": "code",
   "execution_count": 17,
   "metadata": {},
   "outputs": [
    {
     "name": "stdout",
     "output_type": "stream",
     "text": [
      "Hej\n",
      "\u001b[32m\n",
      "\u001b[44m\n",
      "\u001b[1m\n",
      "Hej\n"
     ]
    }
   ],
   "source": [
    "import colorama\n",
    "\n",
    "print(\"Hej\")\n",
    "\n",
    "print(colorama.Fore.GREEN) # Set color \n",
    "print(colorama.Back.BLUE) # Set Back\n",
    "print(colorama.Style.BRIGHT) # Set Style \n",
    "print(\"Hej\")\n",
    "\n",
    "\n",
    "\n"
   ]
  },
  {
   "cell_type": "code",
   "execution_count": 14,
   "metadata": {},
   "outputs": [
    {
     "name": "stdout",
     "output_type": "stream",
     "text": [
      "Hej\n",
      "\u001b[36m\n",
      "Hej\n",
      "\u001b[43m\n",
      "Hej\n",
      "\u001b[39m\n",
      "\u001b[49m\n",
      "98473663\u001b[42m8494803\u001b[0m900422\n"
     ]
    }
   ],
   "source": [
    "from colorama import Fore, Back, Style\n",
    "\n",
    "print(\"Hej\")\n",
    "print(Fore.CYAN) # Set color\n",
    "print(\"Hej\")\n",
    "\n",
    "print(Back.YELLOW) # Set back color \n",
    "print(\"Hej\")\n",
    "\n",
    "print(Fore.RESET) # Reset Fore\n",
    "print(Back.RESET) # Reset Back\n",
    "\n",
    "print(f\"98473663{Back.GREEN}8494803{Style.RESET_ALL}900422\") # Set Back to a part of str and reset style \n"
   ]
  }
 ],
 "metadata": {
  "kernelspec": {
   "display_name": "python-programming-Valentin-Cochiorca-26LKhRSU",
   "language": "python",
   "name": "python3"
  },
  "language_info": {
   "codemirror_mode": {
    "name": "ipython",
    "version": 3
   },
   "file_extension": ".py",
   "mimetype": "text/x-python",
   "name": "python",
   "nbconvert_exporter": "python",
   "pygments_lexer": "ipython3",
   "version": "3.11.5"
  },
  "orig_nbformat": 4
 },
 "nbformat": 4,
 "nbformat_minor": 2
}
