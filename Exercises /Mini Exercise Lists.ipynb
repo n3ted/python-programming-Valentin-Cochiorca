{
 "cells": [
  {
   "cell_type": "markdown",
   "metadata": {},
   "source": [
    "# Mini exercise \n",
    "\n",
    "Write a program that ask the user to input colors, one at a time, until the input is empty. Each color should be put i a list and when the input is finnishe, we print the list whit the colors and the amount of colors."
   ]
  },
  {
   "cell_type": "code",
   "execution_count": 1,
   "metadata": {},
   "outputs": [
    {
     "name": "stdout",
     "output_type": "stream",
     "text": [
      "Input a color:\n",
      "Input a color:\n",
      "Input a color:\n",
      "Input a color:\n",
      "colors = ['red', 'blue ', 'yellow']\n",
      "Amount of colors is = 3!\n"
     ]
    }
   ],
   "source": [
    "colors = [] # Create an empty list\n",
    "\n",
    "while True: # Create a loop\n",
    "    print(f\"Input a color:\") \n",
    "    color = input() # Take input from user\n",
    "    if color == \"\": break # Condition\n",
    "\n",
    "    colors.append(f\"{color}\") # Add color to the list\n",
    "       \n",
    "print(f\"{colors = }\") # Print list of colors\n",
    "print(f\"Amount of colors is = {len(colors)}!\") "
   ]
  },
  {
   "cell_type": "code",
   "execution_count": null,
   "metadata": {},
   "outputs": [],
   "source": [
    "# Intitialize an empty lists to store the colors \n",
    "colors = []\n",
    "\n",
    "#Start an infinile lopp and ask for input \n",
    "while True:\n",
    "    color = input(\"Enter a color (or press Enter to finnish): \").strip() # Remove whitespaces\n",
    "\n",
    "    # Check if the input is empty, and if so, exit the loop\n",
    "    if not color:\n",
    "        break\n",
    "\n",
    "    # Add color to list \n",
    "    colors.append(color)\n",
    "\n",
    "\n",
    "# Print the list of colors and the amount colors\n",
    "if colors:\n",
    "    print(\"List of colors enterd: \")\n",
    "    for index, color in enumerate(colors, start = 1):\n",
    "        print(f\"{index}. {color}\")\n",
    "    print(f\"Total colors: {len(colors)}\")\n",
    "\n",
    "else:\n",
    "    print(\"No colors enterd. \")"
   ]
  }
 ],
 "metadata": {
  "kernelspec": {
   "display_name": "python-programming-Valentin-Cochiorca-26LKhRSU",
   "language": "python",
   "name": "python3"
  },
  "language_info": {
   "codemirror_mode": {
    "name": "ipython",
    "version": 3
   },
   "file_extension": ".py",
   "mimetype": "text/x-python",
   "name": "python",
   "nbconvert_exporter": "python",
   "pygments_lexer": "ipython3",
   "version": "3.11.5"
  },
  "orig_nbformat": 4
 },
 "nbformat": 4,
 "nbformat_minor": 2
}
