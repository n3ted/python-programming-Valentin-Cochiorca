{
 "cells": [
  {
   "cell_type": "markdown",
   "metadata": {},
   "source": [
    "# Dunder methods(double underscore\\_\\_)\n",
    "\n",
    "- \\_\\_init\\_\\_() is called when a new object instance is created. The porpouse is to initialize the object. "
   ]
  },
  {
   "cell_type": "code",
   "execution_count": 22,
   "metadata": {},
   "outputs": [
    {
     "name": "stdout",
     "output_type": "stream",
     "text": [
      "This is a cat called Mjau\n",
      "Cat(\"Mjau\")\n"
     ]
    }
   ],
   "source": [
    "class Cat:\n",
    "    def __init__(self, name):\n",
    "        self.name = name\n",
    "\n",
    "    def __str__(self) -> str: # dunder method  # __str__ is for a enduser\n",
    "        return self.name\n",
    "    \n",
    "    def __repr__(self) -> str: # this is for developers \n",
    "        #return 'This is a representation of a cat'\n",
    "        return f'Cat(\"{self.name}\")' # returns parameter from the instance\n",
    "\n",
    "my_cat = Cat('Mjau') # instance of Cat class\n",
    "\n",
    "# print(my_cat)\n",
    "\n",
    "my_int = 5\n",
    "my_bool = True\n",
    "# my_string = str(my_int)\n",
    "# my_string = str(my_bool)\n",
    "my_string = str(my_cat)\n",
    "\n",
    "# print(my_string)\n",
    "# my_cat # prints string \n",
    "# str(my_cat)\n",
    "#repr(my_cat) # prints out whit quotes \n",
    "\n",
    "print(str(my_cat))\n",
    "print(repr(my_cat))\n"
   ]
  },
  {
   "cell_type": "code",
   "execution_count": 28,
   "metadata": {},
   "outputs": [
    {
     "name": "stdout",
     "output_type": "stream",
     "text": [
      "Cat(\"Mjau\")\n"
     ]
    },
    {
     "data": {
      "text/plain": [
       "'Mjau'"
      ]
     },
     "execution_count": 28,
     "metadata": {},
     "output_type": "execute_result"
    }
   ],
   "source": [
    "my_cat = Cat('Mjau')\n",
    "print(repr(my_cat))\n",
    "copy_cat = eval(repr(my_cat))\n",
    "copy_cat.name\n",
    "\n",
    "#eval('1 + 5')\n",
    "#eval(\"'hello'[0]\")"
   ]
  },
  {
   "cell_type": "code",
   "execution_count": 29,
   "metadata": {},
   "outputs": [
    {
     "name": "stdout",
     "output_type": "stream",
     "text": [
      "5\n"
     ]
    }
   ],
   "source": [
    "x = 5 \n",
    "eval('print(x)') # can get code injection whit eval when get input from user"
   ]
  },
  {
   "cell_type": "code",
   "execution_count": 9,
   "metadata": {},
   "outputs": [
    {
     "name": "stdout",
     "output_type": "stream",
     "text": [
      "This is a cat called Mjau\n",
      "This is a cat called Lolo\n",
      "This is a cat called Riki\n"
     ]
    }
   ],
   "source": [
    "cats = [Cat('Mjau'), Cat('Lolo'), Cat('Riki')]\n",
    "\n",
    "for cat in cats:\n",
    "    print(cat)  # print's always in strings \n",
    "    "
   ]
  }
 ],
 "metadata": {
  "kernelspec": {
   "display_name": "python-programming-Valentin-Cochiorca-26LKhRSU",
   "language": "python",
   "name": "python3"
  },
  "language_info": {
   "codemirror_mode": {
    "name": "ipython",
    "version": 3
   },
   "file_extension": ".py",
   "mimetype": "text/x-python",
   "name": "python",
   "nbconvert_exporter": "python",
   "pygments_lexer": "ipython3",
   "version": "3.11.5"
  },
  "orig_nbformat": 4
 },
 "nbformat": 4,
 "nbformat_minor": 2
}
