{
 "cells": [
  {
   "cell_type": "markdown",
   "metadata": {},
   "source": [
    "# Debugging \n",
    "\n",
    "Finding and correcting error (bugs) in code.\n",
    "\n",
    "# Breaking Point \n",
    "\n",
    "In all IDE (Integrated Development Environment) the developer has the possibility to debug code by steping througt instructions one by one and look at the internal states *(memory/variables)* for each step.\n",
    "\n",
    "We can set one or multiple break points at any line in our code. When starting the program in debug mode, the code will run up until it hits the first breakpoint. From there we can inspect the current state of our program, and we can chose to either run our program until it hits the next breakpoint, or we can use the *\"step over\"* function of the debugger to step one instruction at a time."
   ]
  },
  {
   "cell_type": "code",
   "execution_count": 3,
   "metadata": {},
   "outputs": [],
   "source": [
    "def greet(n):\n",
    "    for i in range(n):\n",
    "        print(\"Hello\")\n",
    "\n",
    "a = 5 \n",
    "b = 3 \n",
    "c = a + b\n",
    "my_list = [3, 6, 9, 9]\n",
    "my_list.append(\"Hello\")\n",
    "\n",
    "greet(b)\n",
    "print(c)"
   ]
  }
 ],
 "metadata": {
  "kernelspec": {
   "display_name": "python-programming-Valentin-Cochiorca-26LKhRSU",
   "language": "python",
   "name": "python3"
  },
  "language_info": {
   "codemirror_mode": {
    "name": "ipython",
    "version": 3
   },
   "file_extension": ".py",
   "mimetype": "text/x-python",
   "name": "python",
   "nbconvert_exporter": "python",
   "pygments_lexer": "ipython3",
   "version": "3.11.5"
  },
  "orig_nbformat": 4
 },
 "nbformat": 4,
 "nbformat_minor": 2
}
