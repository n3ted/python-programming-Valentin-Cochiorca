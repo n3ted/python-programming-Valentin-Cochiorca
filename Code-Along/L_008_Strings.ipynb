{
 "cells": [
  {
   "cell_type": "markdown",
   "metadata": {},
   "source": [
    "# Strings \n",
    "\n",
    "- Data types used in Python for **storing text**\n",
    "- Literal values whit singel or double quotes : 'Singel', \"Double\"\n",
    "- Strings are immutable (menaning not changeble)\n",
    "   "
   ]
  },
  {
   "cell_type": "markdown",
   "metadata": {},
   "source": [
    "# Concatenate \n",
    "\n",
    "In python we can concatenate two or more stings using the + operator"
   ]
  },
  {
   "cell_type": "code",
   "execution_count": 1,
   "metadata": {},
   "outputs": [
    {
     "name": "stdout",
     "output_type": "stream",
     "text": [
      "HelloWorld\n",
      "Hello World\n"
     ]
    }
   ],
   "source": [
    "string1 = \"Hello\"\n",
    "string2 = \"World\"\n",
    "\n",
    "string3 = string1 + string2\n",
    "print(string3)\n",
    "\n",
    "string3 = string1 + \" \" + string2\n",
    "print(string3)\n",
    "\n"
   ]
  },
  {
   "cell_type": "markdown",
   "metadata": {},
   "source": [
    "# Multiline string \n",
    "\n",
    "Python allows string literal to span over **multiple rows** if stated and ended, by \"\"\" "
   ]
  },
  {
   "cell_type": "code",
   "execution_count": 4,
   "metadata": {},
   "outputs": [
    {
     "name": "stdout",
     "output_type": "stream",
     "text": [
      " This \n",
      "\"is\"\n",
      "'''\n",
      "an \n",
      "\n",
      "example!\n",
      "\n",
      "This \n",
      "    is \n",
      "\n",
      "    another \n",
      "    example!\n"
     ]
    }
   ],
   "source": [
    "text = \"\"\" This \n",
    "\"is\"\n",
    "'''\n",
    "an \n",
    "\n",
    "example!\"\"\"\n",
    "\n",
    "print(text)\n",
    "\n",
    "print()\n",
    "\n",
    "if True:\n",
    "    text = '''This \n",
    "    is \n",
    "\n",
    "    another \n",
    "    example!'''\n",
    "\n",
    "    print(text)"
   ]
  },
  {
   "cell_type": "markdown",
   "metadata": {},
   "source": [
    "# Indexing and Slicing "
   ]
  },
  {
   "cell_type": "code",
   "execution_count": 11,
   "metadata": {},
   "outputs": [
    {
     "name": "stdout",
     "output_type": "stream",
     "text": [
      "name[0] = 'V'\n",
      "name[-2] = 'i'\n",
      "name[:4] = 'Vale'\n",
      "name[1:-5] = 'al'\n"
     ]
    }
   ],
   "source": [
    "name = \"Valentin\"\n",
    "\n",
    "print(f\"{name[0] = }\")\n",
    "print(f\"{name[-2] = }\")\n",
    "print(f\"{name[:4] = }\")\n",
    "print(f\"{name[1:-5] = }\")"
   ]
  },
  {
   "cell_type": "markdown",
   "metadata": {},
   "source": [
    "# Looping through a string "
   ]
  },
  {
   "cell_type": "code",
   "execution_count": 12,
   "metadata": {},
   "outputs": [
    {
     "name": "stdout",
     "output_type": "stream",
     "text": [
      "V\n",
      "a\n",
      "l\n",
      "e\n",
      "n\n",
      "t\n",
      "i\n",
      "n\n"
     ]
    }
   ],
   "source": [
    "name = \"Valentin\"\n",
    "\n",
    "for char in name:\n",
    "    print(char)"
   ]
  },
  {
   "cell_type": "markdown",
   "metadata": {},
   "source": [
    "# Membersip operator whit string"
   ]
  },
  {
   "cell_type": "code",
   "execution_count": 20,
   "metadata": {},
   "outputs": [
    {
     "name": "stdout",
     "output_type": "stream",
     "text": [
      "'let' in name = False\n",
      "name in 'Valentin Cochiorca' = True\n",
      "'bar' not in 'naruto' = True\n"
     ]
    }
   ],
   "source": [
    "name = \"Valentin\"\n",
    "\n",
    "print(f\"{'let' in name = }\")\n",
    "\n",
    "print(f\"{name in 'Valentin Cochiorca' = }\")\n",
    "\n",
    "print (f\"{'bar' not in 'naruto' = }\")"
   ]
  },
  {
   "cell_type": "markdown",
   "metadata": {},
   "source": [
    "# Escape characters \n",
    "\n",
    "To insert a character that is illegal in a string, use an escape character!\n",
    "\n",
    "An escape character is a **backslash**, fallowed by the character you want to insert.\n",
    "\n",
    "An exaple of an illegal character is a double quote inside a string that is sourounded by the double quotes.\n",
    "\n",
    "# Common escape characters \n",
    "\n",
    "- \\\" Double quote \n",
    "- \\' Singel quote \n",
    "- \\n New line \n",
    "- \\\\ Backslash\n",
    "- \\t Tab\n"
   ]
  },
  {
   "cell_type": "code",
   "execution_count": 22,
   "metadata": {},
   "outputs": [
    {
     "name": "stdout",
     "output_type": "stream",
     "text": [
      "Hello\tWorld\n",
      " Here \\ is \"anothe\" example.\n"
     ]
    }
   ],
   "source": [
    "escape_char = \"Hello\\tWorld\\n Here \\\\ is \\\"another\\\" example.\"\n",
    "print(escape_char)"
   ]
  },
  {
   "cell_type": "markdown",
   "metadata": {},
   "source": [
    "# String Methods"
   ]
  },
  {
   "cell_type": "code",
   "execution_count": 43,
   "metadata": {},
   "outputs": [
    {
     "name": "stdout",
     "output_type": "stream",
     "text": [
      "name = 'Valentin'\n",
      "upper_name = 'VALENTIN'\n",
      "\"Hello World\".lower() = 'hello world'\n",
      "\"hello world\".upper() = 'HELLO WORLD'\n",
      "\"hello world\".capitalize() = 'Hello world'\n",
      "\"hello world\".title() = 'Hello World'\n",
      "\"First string\".startswith(\"First\") = True\n",
      "\"Fist string\".endswith(\"str\") = False\n",
      "\"Fist string\".endswith(\"string\") = True\n",
      "\"      Hello World         \".strip() = 'Hello World'\n",
      "\"      Hello World         \".lstrip() = 'Hello World         '\n",
      "\"      Hello World         \".rstrip() = '      Hello World'\n",
      "\", \".join([\"Anders\", \"Kalle\", \"Lena\"]) = 'Anders, Kalle, Lena'\n",
      "\"This is another example for you !\".split() = ['This', 'is', 'another', 'example', 'for', 'you', '!']\n",
      "\"This is another example!\".replace(\"another\",\"\") = 'This is  example!'\n",
      "\"This is another example!\".replace(\"another\", \"an\") = 'This is an example!'\n",
      "\"This is the example for today\".find(\"for\") = 20\n"
     ]
    }
   ],
   "source": [
    "# String methods return a new strint, but does not change the string that is called uppon.\n",
    "name = \"Valentin\"\n",
    "upper_name = name.upper()\n",
    "print(f\"{name = }\")\n",
    "print(f\"{upper_name = }\")\n",
    "\n",
    "# Different text formating\n",
    "print(f'{\"Hello World\".lower() = }')\n",
    "print(f'{\"hello world\".upper() = }')\n",
    "print(f'{\"hello world\".capitalize() = }')\n",
    "print(f'{\"hello world\".title() = }')\n",
    "\n",
    "# Check if a string start or ends whit \n",
    "print(f'{\"First string\".startswith(\"First\") = }')\n",
    "print(f'{\"Fist string\".endswith(\"str\") = }')\n",
    "print(f'{\"Fist string\".endswith(\"string\") = }')\n",
    "\n",
    "# Strip often used when we get input from user.\n",
    "# Strip whitespace from start/end of a string\n",
    "\n",
    "print(f'{\"      Hello World         \".strip() = }')\n",
    "print(f'{\"      Hello World         \".lstrip() = }')\n",
    "print(f'{\"      Hello World         \".rstrip() = }')\n",
    "\n",
    "# Join multiple strings\n",
    "print(f'{\", \".join([\"Anders\", \"Kalle\", \"Lena\"]) = }')\n",
    "\n",
    "# Split strings into multiple (lists of) strings.\n",
    "print(f'{\"This is another example for you !\".split() = }')\n",
    "\n",
    "# Replace part of a string whit another\n",
    "print(f'{\"This is another example!\".replace(\"another\",\"\") = }')\n",
    "print(f'{\"This is another example!\".replace(\"another\", \"an\") = }')\n",
    "\n",
    "# Find index of substring\n",
    "print(f'{\"This is the example for today\".find(\"for\") = }') \n",
    "\n"
   ]
  }
 ],
 "metadata": {
  "kernelspec": {
   "display_name": "python-programming-Valentin-Cochiorca-26LKhRSU",
   "language": "python",
   "name": "python3"
  },
  "language_info": {
   "codemirror_mode": {
    "name": "ipython",
    "version": 3
   },
   "file_extension": ".py",
   "mimetype": "text/x-python",
   "name": "python",
   "nbconvert_exporter": "python",
   "pygments_lexer": "ipython3",
   "version": "3.11.5"
  },
  "orig_nbformat": 4
 },
 "nbformat": 4,
 "nbformat_minor": 2
}
