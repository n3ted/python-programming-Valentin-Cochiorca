{
 "cells": [
  {
   "cell_type": "markdown",
   "metadata": {},
   "source": [
    "# List\n",
    "  \n",
    "- Lists are used to store multiple items in a single variable.\n",
    "- Lists are one of **4** built-in **data types** in Python used to store collections of data, the othe 3 are **Tuple**, **Set**, and **Dictionary**, all the different qualities and usage.\n",
    "- **Lists** are created using **square brackets**: []\n",
    "- List items are **ordered**, **changeble** (mutable), and **allow duplicate values**. "
   ]
  },
  {
   "cell_type": "code",
   "execution_count": 8,
   "metadata": {},
   "outputs": [
    {
     "name": "stdout",
     "output_type": "stream",
     "text": [
      "['apple', 'bannan', 'cherry', 'apple']\n",
      "<class 'list'>\n",
      "fruits =['apple', 'bannan', 'cherry', 'apple']\n",
      "4\n",
      "2\n",
      "fruits = ['apple', 'bannan', 'cherry', 'apple', 'mellon', 'Berry']\n",
      "fruits = ['apple', 'bannan', 'cherry', 'apple', 'mellon', 'Berry', 'pear', 'coconut', 'pineapple']\n"
     ]
    }
   ],
   "source": [
    "enpty = [] # enpty list\n",
    "\n",
    "fruits = [\"apple\", \"bannan\", \"cherry\", \"apple\"] # List, doplicate values \n",
    "more_fruits = [\"pear\", \"coconut\", \"pineapple\"]\n",
    "\n",
    "\n",
    "print(fruits)\n",
    "print(type(fruits)) # Type ckeck\n",
    "\n",
    "print(f\"{fruits =}\")\n",
    "print(f\"{len(fruits)}\") # Use len() to get number of items in list\n",
    "print(f\"{fruits.count('apple')}\") # Use .count() count number of occurance of a value\n",
    "\n",
    "\n",
    "fruits.append('mellon') # Append an item to a list.\n",
    "fruits.append('Berry')\n",
    "\n",
    "print(f\"{fruits = }\")\n",
    "\n",
    "fruits += more_fruits # alt. fruits.extend(more_fruits). Appends all items from a second list \n",
    "\n",
    "print(f\"{fruits = }\")\n",
    "\n",
    "\n"
   ]
  }
 ],
 "metadata": {
  "kernelspec": {
   "display_name": "python-programming-Valentin-Cochiorca-26LKhRSU",
   "language": "python",
   "name": "python3"
  },
  "language_info": {
   "codemirror_mode": {
    "name": "ipython",
    "version": 3
   },
   "file_extension": ".py",
   "mimetype": "text/x-python",
   "name": "python",
   "nbconvert_exporter": "python",
   "pygments_lexer": "ipython3",
   "version": "3.11.5"
  },
  "orig_nbformat": 4
 },
 "nbformat": 4,
 "nbformat_minor": 2
}
