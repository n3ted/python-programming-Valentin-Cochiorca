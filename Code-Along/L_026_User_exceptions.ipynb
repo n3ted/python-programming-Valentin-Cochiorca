{
 "cells": [
  {
   "cell_type": "markdown",
   "metadata": {},
   "source": [
    "# Exception hierarchi "
   ]
  },
  {
   "cell_type": "code",
   "execution_count": 1,
   "metadata": {},
   "outputs": [
    {
     "ename": "NameError",
     "evalue": "name 'x' is not defined",
     "output_type": "error",
     "traceback": [
      "\u001b[0;31m---------------------------------------------------------------------------\u001b[0m",
      "\u001b[0;31mNameError\u001b[0m                                 Traceback (most recent call last)",
      "\u001b[1;32m/Users/valentin/Documents/valentAIn/python-programming-Valentin-Cochiorca/Code-Along/L_026_User_exceptions.ipynb Cell 2\u001b[0m line \u001b[0;36m1\n\u001b[0;32m----> <a href='vscode-notebook-cell:/Users/valentin/Documents/valentAIn/python-programming-Valentin-Cochiorca/Code-Along/L_026_User_exceptions.ipynb#W0sZmlsZQ%3D%3D?line=0'>1</a>\u001b[0m \u001b[39mprint\u001b[39m(x)\n",
      "\u001b[0;31mNameError\u001b[0m: name 'x' is not defined"
     ]
    }
   ],
   "source": [
    "print(x) # NameError  \n",
    "\n"
   ]
  },
  {
   "cell_type": "code",
   "execution_count": 2,
   "metadata": {},
   "outputs": [
    {
     "ename": "ValueError",
     "evalue": "invalid literal for int() with base 10: 'hej'",
     "output_type": "error",
     "traceback": [
      "\u001b[0;31m---------------------------------------------------------------------------\u001b[0m",
      "\u001b[0;31mValueError\u001b[0m                                Traceback (most recent call last)",
      "\u001b[1;32m/Users/valentin/Documents/valentAIn/python-programming-Valentin-Cochiorca/Code-Along/L_026_User_exceptions.ipynb Cell 3\u001b[0m line \u001b[0;36m1\n\u001b[0;32m----> <a href='vscode-notebook-cell:/Users/valentin/Documents/valentAIn/python-programming-Valentin-Cochiorca/Code-Along/L_026_User_exceptions.ipynb#W3sZmlsZQ%3D%3D?line=0'>1</a>\u001b[0m \u001b[39mint\u001b[39;49m(\u001b[39m'\u001b[39;49m\u001b[39mhej\u001b[39;49m\u001b[39m'\u001b[39;49m)\n",
      "\u001b[0;31mValueError\u001b[0m: invalid literal for int() with base 10: 'hej'"
     ]
    }
   ],
   "source": [
    "int('hej') # ValueError   \n"
   ]
  },
  {
   "cell_type": "code",
   "execution_count": 3,
   "metadata": {},
   "outputs": [
    {
     "ename": "TypeError",
     "evalue": "int() argument must be a string, a bytes-like object or a real number, not 'list'",
     "output_type": "error",
     "traceback": [
      "\u001b[0;31m---------------------------------------------------------------------------\u001b[0m",
      "\u001b[0;31mTypeError\u001b[0m                                 Traceback (most recent call last)",
      "\u001b[1;32m/Users/valentin/Documents/valentAIn/python-programming-Valentin-Cochiorca/Code-Along/L_026_User_exceptions.ipynb Cell 4\u001b[0m line \u001b[0;36m1\n\u001b[0;32m----> <a href='vscode-notebook-cell:/Users/valentin/Documents/valentAIn/python-programming-Valentin-Cochiorca/Code-Along/L_026_User_exceptions.ipynb#W4sZmlsZQ%3D%3D?line=0'>1</a>\u001b[0m \u001b[39mint\u001b[39;49m([])\n",
      "\u001b[0;31mTypeError\u001b[0m: int() argument must be a string, a bytes-like object or a real number, not 'list'"
     ]
    }
   ],
   "source": [
    "int( [] ) # TypeError "
   ]
  },
  {
   "cell_type": "code",
   "execution_count": 5,
   "metadata": {},
   "outputs": [
    {
     "ename": "IndexError",
     "evalue": "list index out of range",
     "output_type": "error",
     "traceback": [
      "\u001b[0;31m---------------------------------------------------------------------------\u001b[0m",
      "\u001b[0;31mIndexError\u001b[0m                                Traceback (most recent call last)",
      "\u001b[1;32m/Users/valentin/Documents/valentAIn/python-programming-Valentin-Cochiorca/Code-Along/L_026_User_exceptions.ipynb Cell 5\u001b[0m line \u001b[0;36m2\n\u001b[1;32m      <a href='vscode-notebook-cell:/Users/valentin/Documents/valentAIn/python-programming-Valentin-Cochiorca/Code-Along/L_026_User_exceptions.ipynb#W5sZmlsZQ%3D%3D?line=0'>1</a>\u001b[0m fruits \u001b[39m=\u001b[39m [\u001b[39m'\u001b[39m\u001b[39mkive\u001b[39m\u001b[39m'\u001b[39m , \u001b[39m'\u001b[39m\u001b[39mapple \u001b[39m\u001b[39m'\u001b[39m]\n\u001b[0;32m----> <a href='vscode-notebook-cell:/Users/valentin/Documents/valentAIn/python-programming-Valentin-Cochiorca/Code-Along/L_026_User_exceptions.ipynb#W5sZmlsZQ%3D%3D?line=1'>2</a>\u001b[0m fruits[\u001b[39m3\u001b[39;49m]\n",
      "\u001b[0;31mIndexError\u001b[0m: list index out of range"
     ]
    }
   ],
   "source": [
    "fruits = ['kive' , 'apple '] # IndexError: list index out of range\n",
    "fruits[3]"
   ]
  },
  {
   "cell_type": "code",
   "execution_count": 6,
   "metadata": {},
   "outputs": [
    {
     "ename": "ZeroDivisionError",
     "evalue": "division by zero",
     "output_type": "error",
     "traceback": [
      "\u001b[0;31m---------------------------------------------------------------------------\u001b[0m",
      "\u001b[0;31mZeroDivisionError\u001b[0m                         Traceback (most recent call last)",
      "\u001b[1;32m/Users/valentin/Documents/valentAIn/python-programming-Valentin-Cochiorca/Code-Along/L_026_User_exceptions.ipynb Cell 6\u001b[0m line \u001b[0;36m1\n\u001b[0;32m----> <a href='vscode-notebook-cell:/Users/valentin/Documents/valentAIn/python-programming-Valentin-Cochiorca/Code-Along/L_026_User_exceptions.ipynb#W6sZmlsZQ%3D%3D?line=0'>1</a>\u001b[0m \u001b[39m5\u001b[39;49m \u001b[39m/\u001b[39;49m \u001b[39m0\u001b[39;49m\n",
      "\u001b[0;31mZeroDivisionError\u001b[0m: division by zero"
     ]
    }
   ],
   "source": [
    "5 / 0 # ZeroDivisionError: division by zero"
   ]
  },
  {
   "cell_type": "code",
   "execution_count": 9,
   "metadata": {},
   "outputs": [
    {
     "ename": "NameError",
     "evalue": "name 'z' is not defined",
     "output_type": "error",
     "traceback": [
      "\u001b[0;31m---------------------------------------------------------------------------\u001b[0m",
      "\u001b[0;31mNameError\u001b[0m                                 Traceback (most recent call last)",
      "\u001b[1;32m/Users/valentin/Documents/valentAIn/python-programming-Valentin-Cochiorca/Code-Along/L_026_User_exceptions.ipynb Cell 7\u001b[0m line \u001b[0;36m4\n\u001b[1;32m      <a href='vscode-notebook-cell:/Users/valentin/Documents/valentAIn/python-programming-Valentin-Cochiorca/Code-Along/L_026_User_exceptions.ipynb#X10sZmlsZQ%3D%3D?line=0'>1</a>\u001b[0m x \u001b[39m=\u001b[39m \u001b[39m0\u001b[39m \n\u001b[1;32m      <a href='vscode-notebook-cell:/Users/valentin/Documents/valentAIn/python-programming-Valentin-Cochiorca/Code-Along/L_026_User_exceptions.ipynb#X10sZmlsZQ%3D%3D?line=2'>3</a>\u001b[0m \u001b[39mtry\u001b[39;00m: \n\u001b[0;32m----> <a href='vscode-notebook-cell:/Users/valentin/Documents/valentAIn/python-programming-Valentin-Cochiorca/Code-Along/L_026_User_exceptions.ipynb#X10sZmlsZQ%3D%3D?line=3'>4</a>\u001b[0m     \u001b[39mprint\u001b[39m(z)\n\u001b[1;32m      <a href='vscode-notebook-cell:/Users/valentin/Documents/valentAIn/python-programming-Valentin-Cochiorca/Code-Along/L_026_User_exceptions.ipynb#X10sZmlsZQ%3D%3D?line=4'>5</a>\u001b[0m     \u001b[39mprint\u001b[39m(\u001b[39m5\u001b[39m \u001b[39m/\u001b[39m x)\n\u001b[1;32m      <a href='vscode-notebook-cell:/Users/valentin/Documents/valentAIn/python-programming-Valentin-Cochiorca/Code-Along/L_026_User_exceptions.ipynb#X10sZmlsZQ%3D%3D?line=6'>7</a>\u001b[0m \u001b[39mexcept\u001b[39;00m \u001b[39mZeroDivisionError\u001b[39;00m:\n",
      "\u001b[0;31mNameError\u001b[0m: name 'z' is not defined"
     ]
    }
   ],
   "source": [
    "x = 0 \n",
    "\n",
    "try: \n",
    "    print(z)\n",
    "    print(5 / x)\n",
    "     \n",
    "except Exception:\n",
    "    print('There was an error!')"
   ]
  },
  {
   "cell_type": "code",
   "execution_count": null,
   "metadata": {},
   "outputs": [],
   "source": [
    "class FredrikError(Exception): # make a own exception \n",
    "    ...\n",
    "\n",
    "try:\n",
    "    #5 / 0\n",
    "    raise FredrikError(\"Fredrik did something wrong.\") # raise exception clasify as own exception \n",
    "    print(\"hello\")\n",
    "except FredrikError as e:\n",
    "    print(e)"
   ]
  }
 ],
 "metadata": {
  "kernelspec": {
   "display_name": "python-programming-Valentin-Cochiorca-26LKhRSU",
   "language": "python",
   "name": "python3"
  },
  "language_info": {
   "codemirror_mode": {
    "name": "ipython",
    "version": 3
   },
   "file_extension": ".py",
   "mimetype": "text/x-python",
   "name": "python",
   "nbconvert_exporter": "python",
   "pygments_lexer": "ipython3",
   "version": "3.11.5"
  },
  "orig_nbformat": 4
 },
 "nbformat": 4,
 "nbformat_minor": 2
}
