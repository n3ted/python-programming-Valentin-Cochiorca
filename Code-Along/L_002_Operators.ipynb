{
 "cells": [
  {
   "cell_type": "markdown",
   "metadata": {},
   "source": [
    "# Operators \n",
    "\n",
    "An operator in a programing language is a symbol that tells the compiler or intepretor to perform specific mathematical, relational or logical operation and produce final results. "
   ]
  },
  {
   "cell_type": "markdown",
   "metadata": {},
   "source": [
    "## Aritmetic Operators \n",
    "- Addition +\n",
    "- Substraction -\n",
    "- Multiplication *\n",
    "- Division /\n",
    "- Floor Division //\n",
    "- Modulus/ Reminder %\n",
    "- Exponentiation **"
   ]
  },
  {
   "cell_type": "code",
   "execution_count": 5,
   "metadata": {},
   "outputs": [
    {
     "name": "stdout",
     "output_type": "stream",
     "text": [
      "4.5\n",
      "4\n",
      "1\n",
      "27\n"
     ]
    }
   ],
   "source": [
    "print(9/2)\n",
    "\n",
    "print(9//2) \n",
    "\n",
    "print(9%2)\n",
    "\n",
    "print(3**3)"
   ]
  },
  {
   "cell_type": "markdown",
   "metadata": {},
   "source": [
    "# Comparison operator (sv. jämförellseoperator)\n",
    "\n",
    "- Egual ==\n",
    "- Not Egual !=\n",
    "- Less then < \n",
    "- Greater then > \n",
    "- Less or Equal <=\n",
    "- Greater or Equal <=\n",
    "\n"
   ]
  },
  {
   "cell_type": "code",
   "execution_count": 14,
   "metadata": {},
   "outputs": [
    {
     "name": "stdout",
     "output_type": "stream",
     "text": [
      "True\n",
      "False\n",
      "False\n",
      "False\n",
      "True\n",
      "True\n"
     ]
    }
   ],
   "source": [
    "x = 8\n",
    "\n",
    "print(x != 5)\n",
    "print(x < 6)\n",
    "print(10 < 9)\n",
    "\n",
    "print(\"Fredrik\" < \" Andres \") # (py) => Comes Fredrik before Anders in literal order? => False \n",
    "\n",
    "x = 15 \n",
    "# Both are true. Can compare in both ways \n",
    "print (x > 10 and x < 20)\n",
    "print (10 < x < 20)\n"
   ]
  },
  {
   "cell_type": "markdown",
   "metadata": {},
   "source": [
    "# Logical Operators \n",
    "\n",
    "- and (true if both are true)\n",
    "- or (true if one or both are true)\n",
    "- not (true if false, false if true)"
   ]
  },
  {
   "cell_type": "code",
   "execution_count": 12,
   "metadata": {},
   "outputs": [
    {
     "name": "stdout",
     "output_type": "stream",
     "text": [
      "False\n",
      "True\n",
      "False\n",
      "True\n",
      "False\n",
      "True\n",
      "True\n"
     ]
    }
   ],
   "source": [
    "print(True and False)\n",
    "print(True or False)\n",
    "print(not True)\n",
    "print(not False)\n",
    "\n",
    "print(5==5 and 7 ==10)\n",
    "print(6 == 6 and 7 < 8)\n",
    "print(7 < 8 or 10 < 12)"
   ]
  }
 ],
 "metadata": {
  "kernelspec": {
   "display_name": "python-programming-Valentin-Cochiorca-26LKhRSU",
   "language": "python",
   "name": "python3"
  },
  "language_info": {
   "codemirror_mode": {
    "name": "ipython",
    "version": 3
   },
   "file_extension": ".py",
   "mimetype": "text/x-python",
   "name": "python",
   "nbconvert_exporter": "python",
   "pygments_lexer": "ipython3",
   "version": "3.11.5"
  },
  "orig_nbformat": 4
 },
 "nbformat": 4,
 "nbformat_minor": 2
}
