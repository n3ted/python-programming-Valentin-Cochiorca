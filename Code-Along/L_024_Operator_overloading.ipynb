{
 "cells": [
  {
   "cell_type": "markdown",
   "metadata": {},
   "source": [
    "# Operator overloading"
   ]
  },
  {
   "cell_type": "code",
   "execution_count": 17,
   "metadata": {},
   "outputs": [
    {
     "data": {
      "text/plain": [
       "'Pelle'"
      ]
     },
     "execution_count": 17,
     "metadata": {},
     "output_type": "execute_result"
    }
   ],
   "source": [
    "class Cat:\n",
    "    def __init__(self, name, age):\n",
    "        self.name = name\n",
    "        self.age = age \n",
    "    \n",
    "    #def __add__(self, other): # self is ref to cat_a , other is ref to cat_b\n",
    "        #return self.age + other.age\n",
    "    \n",
    "    def __add__(self, other):\n",
    "        return self.name + other.name\n",
    "        # return self.name \n",
    "        # return other.name\n",
    "\n",
    "\n",
    "cat_a = Cat('Pelle', 8)\n",
    "cat_b = Cat('Måns', 10)\n",
    "\n",
    "cat_a + cat_b\n",
    "# cat_a + cat_b + 'Hej'\n",
    "#cat_a.age + cat_b.age"
   ]
  },
  {
   "cell_type": "code",
   "execution_count": 1,
   "metadata": {},
   "outputs": [
    {
     "data": {
      "text/plain": [
       "9"
      ]
     },
     "execution_count": 1,
     "metadata": {},
     "output_type": "execute_result"
    }
   ],
   "source": [
    "5 + 4"
   ]
  },
  {
   "cell_type": "code",
   "execution_count": 2,
   "metadata": {},
   "outputs": [
    {
     "data": {
      "text/plain": [
       "'HelloWorld'"
      ]
     },
     "execution_count": 2,
     "metadata": {},
     "output_type": "execute_result"
    }
   ],
   "source": [
    "'Hello' + 'World'"
   ]
  },
  {
   "cell_type": "code",
   "execution_count": 3,
   "metadata": {},
   "outputs": [
    {
     "data": {
      "text/plain": [
       "['Kivi', 'Orange', 'Apple', 'Mellon', 'Pear']"
      ]
     },
     "execution_count": 3,
     "metadata": {},
     "output_type": "execute_result"
    }
   ],
   "source": [
    "['Kivi', 'Orange', 'Apple'] + ['Mellon', 'Pear']"
   ]
  },
  {
   "cell_type": "code",
   "execution_count": 77,
   "metadata": {},
   "outputs": [
    {
     "name": "stdout",
     "output_type": "stream",
     "text": [
      "Kelvin = 2, Celsius = -271.15\n",
      "Kelvin = 2, Celsius = -271.15\n",
      "Kelvin = 278.15, Celsius = 5.0\n"
     ]
    },
    {
     "ename": "AttributeError",
     "evalue": "'int' object has no attribute 'kelvin'",
     "output_type": "error",
     "traceback": [
      "\u001b[0;31m---------------------------------------------------------------------------\u001b[0m",
      "\u001b[0;31mAttributeError\u001b[0m                            Traceback (most recent call last)",
      "\u001b[1;32m/Users/valentin/Documents/valentAIn/python-programming-Valentin-Cochiorca/Code-Along/L_024_Operator_overloading.ipynb Cell 6\u001b[0m line \u001b[0;36m5\n\u001b[1;32m     <a href='vscode-notebook-cell:/Users/valentin/Documents/valentAIn/python-programming-Valentin-Cochiorca/Code-Along/L_024_Operator_overloading.ipynb#X10sZmlsZQ%3D%3D?line=44'>45</a>\u001b[0m \u001b[39mprint\u001b[39m(t3)\n\u001b[1;32m     <a href='vscode-notebook-cell:/Users/valentin/Documents/valentAIn/python-programming-Valentin-Cochiorca/Code-Along/L_024_Operator_overloading.ipynb#X10sZmlsZQ%3D%3D?line=46'>47</a>\u001b[0m \u001b[39m#t1 + t2 # py looks if at the plus symbol and call __add__ method if exists (in class)\u001b[39;00m\n\u001b[1;32m     <a href='vscode-notebook-cell:/Users/valentin/Documents/valentAIn/python-programming-Valentin-Cochiorca/Code-Along/L_024_Operator_overloading.ipynb#X10sZmlsZQ%3D%3D?line=47'>48</a>\u001b[0m \u001b[39m#-> t1 = self -> t2 = other\u001b[39;00m\n\u001b[1;32m     <a href='vscode-notebook-cell:/Users/valentin/Documents/valentAIn/python-programming-Valentin-Cochiorca/Code-Along/L_024_Operator_overloading.ipynb#X10sZmlsZQ%3D%3D?line=48'>49</a>\u001b[0m \n\u001b[1;32m     <a href='vscode-notebook-cell:/Users/valentin/Documents/valentAIn/python-programming-Valentin-Cochiorca/Code-Along/L_024_Operator_overloading.ipynb#X10sZmlsZQ%3D%3D?line=49'>50</a>\u001b[0m \u001b[39m#t1 + 5.0 # 5.0 has no kelvin proprety when sent in other\u001b[39;00m\n\u001b[1;32m     <a href='vscode-notebook-cell:/Users/valentin/Documents/valentAIn/python-programming-Valentin-Cochiorca/Code-Along/L_024_Operator_overloading.ipynb#X10sZmlsZQ%3D%3D?line=50'>51</a>\u001b[0m \n\u001b[1;32m     <a href='vscode-notebook-cell:/Users/valentin/Documents/valentAIn/python-programming-Valentin-Cochiorca/Code-Along/L_024_Operator_overloading.ipynb#X10sZmlsZQ%3D%3D?line=51'>52</a>\u001b[0m \u001b[39m# my_new_temp = t3 + t2 + t3 # it will add (t1 + t2) + t3 add save in variabel \u001b[39;00m\n\u001b[0;32m---> <a href='vscode-notebook-cell:/Users/valentin/Documents/valentAIn/python-programming-Valentin-Cochiorca/Code-Along/L_024_Operator_overloading.ipynb#X10sZmlsZQ%3D%3D?line=53'>54</a>\u001b[0m t3 \u001b[39m+\u001b[39;49m \u001b[39m5\u001b[39;49m \u001b[39m+\u001b[39m t2 \u001b[39m# add an obj whit a float  \u001b[39;00m\n",
      "\u001b[1;32m/Users/valentin/Documents/valentAIn/python-programming-Valentin-Cochiorca/Code-Along/L_024_Operator_overloading.ipynb Cell 6\u001b[0m line \u001b[0;36m3\n\u001b[1;32m     <a href='vscode-notebook-cell:/Users/valentin/Documents/valentAIn/python-programming-Valentin-Cochiorca/Code-Along/L_024_Operator_overloading.ipynb#X10sZmlsZQ%3D%3D?line=28'>29</a>\u001b[0m     \u001b[39mreturn\u001b[39;00m Temperature(kelvin\u001b[39m=\u001b[39m\u001b[39mself\u001b[39m\u001b[39m.\u001b[39mkelvin \u001b[39m+\u001b[39m other)\n\u001b[1;32m     <a href='vscode-notebook-cell:/Users/valentin/Documents/valentAIn/python-programming-Valentin-Cochiorca/Code-Along/L_024_Operator_overloading.ipynb#X10sZmlsZQ%3D%3D?line=29'>30</a>\u001b[0m \u001b[39melse\u001b[39;00m:\n\u001b[0;32m---> <a href='vscode-notebook-cell:/Users/valentin/Documents/valentAIn/python-programming-Valentin-Cochiorca/Code-Along/L_024_Operator_overloading.ipynb#X10sZmlsZQ%3D%3D?line=30'>31</a>\u001b[0m     \u001b[39mreturn\u001b[39;00m Temperature(kelvin\u001b[39m=\u001b[39m\u001b[39mself\u001b[39m\u001b[39m.\u001b[39mkelvin \u001b[39m+\u001b[39m other\u001b[39m.\u001b[39;49mkelvin)\n",
      "\u001b[0;31mAttributeError\u001b[0m: 'int' object has no attribute 'kelvin'"
     ]
    }
   ],
   "source": [
    "class Temperature:\n",
    "    def __init__(self, kelvin=None, celsius=None):\n",
    "        if kelvin is not None:\n",
    "            self.kelvin = kelvin\n",
    "        else: \n",
    "            self.celsius = celsius\n",
    "\n",
    "    @property\n",
    "    def kelvin(self):\n",
    "        return self._kelvin\n",
    "   \n",
    "    @kelvin.setter\n",
    "    def kelvin(self, kelvin):\n",
    "        self._kelvin = kelvin\n",
    "\n",
    "    @property\n",
    "    def celsius(self):\n",
    "        return self._kelvin -273.15\n",
    "    \n",
    "    @celsius.setter\n",
    "    def celsius(self, celsius):\n",
    "        self._kelvin = celsius + 273.15\n",
    "\n",
    "    def __repr__(self) -> str:\n",
    "        return f\"Kelvin = {self.kelvin}, Celsius = {self.celsius}\"\n",
    "    \n",
    "    def __add__(self, other):\n",
    "        #if type(other) is float:\n",
    "        # if type(other) in [float, int]: # look in list for float or int \n",
    "        #     return Temperature(kelvin=self.kelvin + other)\n",
    "        # else:\n",
    "        #     return Temperature(kelvin=self.kelvin + other.kelvin)\n",
    "        \n",
    "    \n",
    "\n",
    "t1 = Temperature(kelvin=2)\n",
    "t2 = Temperature(kelvin=2)\n",
    "t3 = Temperature(celsius=5)\n",
    "#t1.kelvin\n",
    "#t1.celsius\n",
    "#t1.kelvin\n",
    "#str(t1)\n",
    "#repr(t1)\n",
    "\n",
    "print(t1)\n",
    "print(t2)\n",
    "print(t3)\n",
    "\n",
    "#t1 + t2 # py looks if at the plus symbol and call __add__ method if exists (in class)\n",
    "#-> t1 = self -> t2 = other\n",
    "\n",
    "#t1 + 5.0 # 5.0 has no kelvin proprety when sent in other\n",
    "\n",
    "# my_new_temp = t3 + t2 + t3 # it will add (t1 + t2) + t3 add save in variabel \n",
    "\n",
    "t3 + 5 + t2 # add an obj whit a float  \n",
    "\n",
    "\n",
    "\n"
   ]
  },
  {
   "cell_type": "markdown",
   "metadata": {},
   "source": []
  }
 ],
 "metadata": {
  "kernelspec": {
   "display_name": "python-programming-Valentin-Cochiorca-26LKhRSU",
   "language": "python",
   "name": "python3"
  },
  "language_info": {
   "codemirror_mode": {
    "name": "ipython",
    "version": 3
   },
   "file_extension": ".py",
   "mimetype": "text/x-python",
   "name": "python",
   "nbconvert_exporter": "python",
   "pygments_lexer": "ipython3",
   "version": "3.11.5"
  },
  "orig_nbformat": 4
 },
 "nbformat": 4,
 "nbformat_minor": 2
}
