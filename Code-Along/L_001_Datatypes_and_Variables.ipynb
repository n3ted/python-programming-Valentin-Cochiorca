{
 "cells": [
  {
   "cell_type": "markdown",
   "metadata": {},
   "source": [
    "---\n",
    "# Data Types \n",
    "\n",
    "- **String** (text)\n",
    "- **Int** (integer/sv. heltal)\n",
    "- **Float** (floating point /sv. flyttal(decimaltal))\n",
    "- **Bool** (boolean, True/False)"
   ]
  },
  {
   "cell_type": "code",
   "execution_count": null,
   "metadata": {},
   "outputs": [],
   "source": [
    "myString = \"valle\"\n",
    "print(myString)\n",
    "\n",
    "myInt = 9\n",
    "print(myInt)\n",
    "\n",
    "myfloat = 3.66\n",
    "print(myfloat)\n",
    "\n",
    "myBool = True\n",
    "print(myBool)\n",
    "\n",
    "type(myInt)\n",
    "\n",
    "\n"
   ]
  },
  {
   "cell_type": "markdown",
   "metadata": {},
   "source": [
    "---\n",
    "# Literal Values\n",
    "- \"Hello\" - **Strings**.  One can use <u>single</u> or <u>doubble quotes</u>. Case sensitive.  \n",
    "- 7  **Integer**\n",
    "- 5.2 **Float**\n",
    "- True **Bool**. Can be <u>True</u> or <u>False</u>"
   ]
  },
  {
   "cell_type": "markdown",
   "metadata": {},
   "source": [
    "---\n",
    "\n",
    "# Variables \n",
    "\n",
    "- Case-sensitive \n",
    "- Created when first assigned, does not need to be declared.\n",
    "- Dynamic typing, type is refered from assignment, can be re-typed. \n",
    "- Cast type with: str(), int(), float(), bool()\n",
    "- Get type with: type()\n",
    "- Use del() to delete variables.\n",
    "  \n",
    "\n",
    "  "
   ]
  },
  {
   "cell_type": "code",
   "execution_count": 35,
   "metadata": {},
   "outputs": [
    {
     "name": "stdout",
     "output_type": "stream",
     "text": [
      "79\n",
      "<class 'str'>\n",
      "<class 'int'>\n",
      "77\n",
      "True\n",
      "False\n",
      "False\n",
      "True\n"
     ]
    }
   ],
   "source": [
    "myNr = \"77\"\n",
    "#convert myNr to integer\n",
    "myNr2 = int(myNr) \n",
    "print(myNr2 + 2)\n",
    "\n",
    "print(type(myNr))\n",
    "print(type(myNr2))\n",
    "\n",
    "#del(myNr2) =>we get error if we delete & we print \n",
    "print(myNr2)\n",
    "\n",
    "#Casting string to bool => FALSE for empty string, TRUE for not empty string\n",
    "print(bool(\"ABCD\"))\n",
    "print(bool())\n",
    "\n",
    "#Casting nummeric to bool  => FALSE for Zero, TRUE for !zero\n",
    "print(bool(0))\n",
    "print(bool(2))"
   ]
  },
  {
   "cell_type": "markdown",
   "metadata": {},
   "source": [
    "---\n"
   ]
  }
 ],
 "metadata": {
  "kernelspec": {
   "display_name": "Python 3",
   "language": "python",
   "name": "python3"
  },
  "language_info": {
   "codemirror_mode": {
    "name": "ipython",
    "version": 3
   },
   "file_extension": ".py",
   "mimetype": "text/x-python",
   "name": "python",
   "nbconvert_exporter": "python",
   "pygments_lexer": "ipython3",
   "version": "3.11.5"
  },
  "orig_nbformat": 4
 },
 "nbformat": 4,
 "nbformat_minor": 2
}
