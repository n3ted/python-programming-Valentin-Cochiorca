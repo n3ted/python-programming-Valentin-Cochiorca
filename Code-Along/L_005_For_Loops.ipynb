{
 "cells": [
  {
   "cell_type": "markdown",
   "metadata": {},
   "source": [
    "# For loops\n",
    "\n",
    "A for loop is used for iterating over seguence. (Example: a list, a string, a dictionary, or a range)\n",
    "\n",
    "This is less like the for keyword in other programing languages, and works more like an iterator method as found in other oriented programming languages. (ex. C#'s foreach-loop)"
   ]
  },
  {
   "cell_type": "code",
   "execution_count": 1,
   "metadata": {},
   "outputs": [
    {
     "name": "stdout",
     "output_type": "stream",
     "text": [
      "Jane\n",
      "Camilla\n",
      "Kalle\n",
      "Maria\n"
     ]
    }
   ],
   "source": [
    "#Example: Iterating over the items in a list:\n",
    "names = [\"Jane\", \"Camilla\", \"Kalle\", \"Maria\"]\n",
    "\n",
    "for name in names:\n",
    "    print(name)"
   ]
  },
  {
   "cell_type": "code",
   "execution_count": null,
   "metadata": {},
   "outputs": [],
   "source": [
    "# Example 2, iterating over a range \n",
    "\n",
    "print(\"Using only stop value(start default to zero):\")\n",
    "for i in range(3): # starting at zero but exclusive value 3\n",
    "    print(i)\n",
    "\n",
    "print(\"\\nUsing start and stop values (start is inclusive, stop is exclusive):\") # Using \\n for line break \n",
    "for i in range(10,13): \n",
    "    print(i)\n",
    "    \n",
    "\n",
    "print(\"\\nUsing start, stop values and step values (step default to 1):\") # We can give any step\n",
    "for i in range(10, 20, 1):\n",
    "    print(i)\n",
    "\n",
    "print(\"\\nCan olso count reversed using a negative step value:\") \n",
    "for i in range(10, 20, -3):\n",
    "    print(i)\n",
    "    "
   ]
  },
  {
   "cell_type": "markdown",
   "metadata": {},
   "source": [
    "## Like While loops, for loops can olso use the fallowing statements: \n",
    "- Continue\n",
    "- Break\n",
    "- Else  \n"
   ]
  },
  {
   "cell_type": "markdown",
   "metadata": {},
   "source": [
    "## Nested loops \n",
    "\n",
    "A loop whitin a loop\n"
   ]
  },
  {
   "cell_type": "code",
   "execution_count": 10,
   "metadata": {},
   "outputs": [
    {
     "name": "stdout",
     "output_type": "stream",
     "text": [
      "ooooo\n",
      "ooooo\n",
      "ooooo\n"
     ]
    }
   ],
   "source": [
    "for y in range(3):\n",
    "    for x in range(5): \n",
    "        print(\"o\", end=\"\") # print parameter end= -> default\n",
    "    print()"
   ]
  },
  {
   "cell_type": "code",
   "execution_count": 11,
   "metadata": {},
   "outputs": [
    {
     "name": "stdout",
     "output_type": "stream",
     "text": [
      "01234\n",
      "01234\n",
      "01234\n"
     ]
    }
   ],
   "source": [
    "for y in range(3):\n",
    "    for x in range(5): \n",
    "        print(x, end=\"\") # print parameter end= -> default\n",
    "    print()"
   ]
  },
  {
   "cell_type": "code",
   "execution_count": 12,
   "metadata": {},
   "outputs": [
    {
     "name": "stdout",
     "output_type": "stream",
     "text": [
      "00000\n",
      "11111\n",
      "22222\n"
     ]
    }
   ],
   "source": [
    "for y in range(3):\n",
    "    for x in range(5): \n",
    "        print(y, end=\"\") # print parameter end= -> default\n",
    "    print()"
   ]
  }
 ],
 "metadata": {
  "kernelspec": {
   "display_name": "python-programming-Valentin-Cochiorca-26LKhRSU",
   "language": "python",
   "name": "python3"
  },
  "language_info": {
   "codemirror_mode": {
    "name": "ipython",
    "version": 3
   },
   "file_extension": ".py",
   "mimetype": "text/x-python",
   "name": "python",
   "nbconvert_exporter": "python",
   "pygments_lexer": "ipython3",
   "version": "3.11.5"
  },
  "orig_nbformat": 4
 },
 "nbformat": 4,
 "nbformat_minor": 2
}
