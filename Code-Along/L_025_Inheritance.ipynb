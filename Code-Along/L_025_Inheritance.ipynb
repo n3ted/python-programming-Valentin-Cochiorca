{
 "cells": [
  {
   "cell_type": "markdown",
   "metadata": {},
   "source": [
    "# Inheritance (Gruppera Information)"
   ]
  },
  {
   "cell_type": "code",
   "execution_count": 40,
   "metadata": {},
   "outputs": [
    {
     "name": "stdout",
     "output_type": "stream",
     "text": [
      "My name is Pelle and I am a <class '__main__.Cat'>\n",
      "Pelle is running.\n",
      "Karo is running.\n",
      "Karo is barking: VOOF\n",
      "Nemo is swimming.\n",
      "Kashiri is running.\n",
      "Kashiri is barking: voff\n"
     ]
    }
   ],
   "source": [
    "class Animal: # parent/super class \n",
    "    def __init__(self, name, is_loud =None):\n",
    "        # self.name = 'Untitled animal'\n",
    "        self.name = name\n",
    "        self.is_loud = is_loud\n",
    "\n",
    "    def __repr__(self):\n",
    "        return f\"My name is {self.name} and I am a {type(self)}\"\n",
    "\n",
    "    def move(self):\n",
    "        print(f\"{self.name} is running.\")\n",
    "\n",
    "class Cat(Animal): # child class that inherits all from parent(Animal)\n",
    "    ...\n",
    "#my_cat = Cat('Pelle')   \n",
    "# my_cat = Cat()\n",
    "# print(my_cat.__dict__) # will have a name \n",
    "\n",
    "class Dog(Animal): # child class inherits parent Animal \n",
    "    def bark(self):\n",
    "        if self.is_loud == False:\n",
    "            print(f\"{self.name} is barking: voff\")\n",
    "        else:\n",
    "            print(f\"{self.name} is barking: VOOF\")\n",
    "\n",
    "#my_dog = Dog('Karro')\n",
    "\n",
    "\n",
    "#print(my_cat)\n",
    "#rint(my_dog)\n",
    "\n",
    "# my_dog -> works whit repr \n",
    "\n",
    "class Fish(Animal): \n",
    "    # Method override -> will be inherit by a subclass to this one \n",
    "    def move(self):\n",
    "        print(f\"{self.name} is swimming.\")\n",
    "\n",
    "animals = [            # list whit the objects \n",
    "    Cat(\"Pelle\"),\n",
    "    Dog(\"Karo\", is_loud = True),\n",
    "    Fish(\"Nemo\"),\n",
    "    Dog(\"Kashiri\", is_loud = False),\n",
    "]\n",
    "\n",
    "print(animals[0])\n",
    "\n",
    "for animal in animals:\n",
    "    animal.move()\n",
    "    # if hasattr(animal, 'bark'): # check if has 'bark' attribute \n",
    "    #if type(animal)== Dog: \n",
    "    # if isinstance(animal, animal): # crash no type animal \n",
    "    if isinstance(animal, Dog): # will work for animals and dogs\n",
    "        animal.bark()\n",
    "\n",
    "#animals[1].bark()\n",
    "# animals[0].bark() # 'Cat' object has no attribute 'bark'\n",
    "\n",
    "\n",
    "\n",
    "#my_animal = Animal('john')\n",
    "#print(my_animal)\n",
    "# print(my_animal.__dict__) # normaly dont use this \n"
   ]
  },
  {
   "cell_type": "code",
   "execution_count": 18,
   "metadata": {},
   "outputs": [
    {
     "name": "stdout",
     "output_type": "stream",
     "text": [
      "isinstance(my_cat, Cat) = True\n",
      "isinstance(my_cat, Dog) = False\n",
      "isinstance(my_cat, Animal) = True\n",
      "isinstance(my_cat, object) = True\n"
     ]
    }
   ],
   "source": [
    "\n",
    "my_cat = Cat(\"Pelle\")\n",
    "print(f\"{isinstance(my_cat, Cat) = }\")\n",
    "print(f\"{isinstance(my_cat, Dog) = }\")\n",
    "print(f\"{isinstance(my_cat, Animal) = }\")\n",
    "print(f\"{isinstance(my_cat, object) = }\")"
   ]
  },
  {
   "cell_type": "code",
   "execution_count": 26,
   "metadata": {},
   "outputs": [
    {
     "name": "stdout",
     "output_type": "stream",
     "text": [
      "issubclass(Cat, Dog) = False\n",
      "issubclass(Cat, Animal) = True\n",
      "issubclass(Cat, object) = True\n",
      "issubclass(Animal, Cat) = False\n"
     ]
    }
   ],
   "source": [
    "print(f'{issubclass(Cat, Dog) = }')\n",
    "print(f'{issubclass(Cat, Animal) = }')\n",
    "print(f'{issubclass(Cat, object) = }')\n",
    "print(f'{issubclass(Animal, Cat) = }')"
   ]
  },
  {
   "cell_type": "code",
   "execution_count": 25,
   "metadata": {},
   "outputs": [
    {
     "name": "stdout",
     "output_type": "stream",
     "text": [
      "False\n",
      "False\n",
      "True\n",
      "True\n",
      "True\n"
     ]
    }
   ],
   "source": [
    "my_dog = Dog('Karo')\n",
    "print(f'{hasattr(Dog, \"name\")}') # hasattr checks(attribut, proprieties and methods)\n",
    "print(f'{hasattr(Dog, \"age\")}')\n",
    "print(f'{hasattr(Dog, \"bark\")}')\n",
    "print(f'{hasattr(Dog, \"__init__\")}')\n",
    "print(f'{hasattr(Dog, \"__dict__\")}')"
   ]
  },
  {
   "cell_type": "code",
   "execution_count": 19,
   "metadata": {},
   "outputs": [
    {
     "name": "stdout",
     "output_type": "stream",
     "text": [
      "<__main__.Robot object at 0x10733fd10>\n"
     ]
    }
   ],
   "source": [
    "class Robot: # every class inherits from from obj class\n",
    "    name = 'Untitled robot'\n",
    "    ...\n",
    "my_robot = Robot()\n",
    "print(my_robot)"
   ]
  }
 ],
 "metadata": {
  "kernelspec": {
   "display_name": "python-programming-Valentin-Cochiorca-26LKhRSU",
   "language": "python",
   "name": "python3"
  },
  "language_info": {
   "codemirror_mode": {
    "name": "ipython",
    "version": 3
   },
   "file_extension": ".py",
   "mimetype": "text/x-python",
   "name": "python",
   "nbconvert_exporter": "python",
   "pygments_lexer": "ipython3",
   "version": "3.11.5"
  },
  "orig_nbformat": 4
 },
 "nbformat": 4,
 "nbformat_minor": 2
}
