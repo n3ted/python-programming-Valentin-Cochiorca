{
 "cells": [
  {
   "cell_type": "markdown",
   "metadata": {},
   "source": [
    "# Name binding \n",
    "\n",
    "- Everything in Python is an object, meaning every entity has some metadata(attributes) and assosiated funcionality (methods).\n",
    "- Names can be bound to any object.\n",
    "\n",
    "# Mutabel vs immutable object\n",
    "\n",
    "- Numerics, strings and tuples are immutable, meaning their value can't change after they are created. \n",
    "- Almost everything else, including list, dictionaries and user-defined object, are mutable, meaning the value has methods that can change the value in-place. "
   ]
  },
  {
   "cell_type": "code",
   "execution_count": 20,
   "metadata": {},
   "outputs": [
    {
     "name": "stdout",
     "output_type": "stream",
     "text": [
      "1 4315700168\n",
      "2 4315700200\n"
     ]
    }
   ],
   "source": [
    "a = 1 \n",
    "print(a, id(a))\n",
    "\n",
    "a = 2\n",
    "print(a, id(a))"
   ]
  },
  {
   "cell_type": "markdown",
   "metadata": {},
   "source": [
    "# Rebinding the name vs mutating the value \n",
    "\n",
    "- Variables in Py doesn't work the same way as in languages like c-sharp and java. \n",
    "- **a** doesn't refer to a place in memory where we store different values, rather values themselves are objects in memory, and a is the name bound to it. \n",
    "- b = 2 doesn't mutate the value of 'a', but rather create a new object '2' and rebinds 'a' to it."
   ]
  },
  {
   "cell_type": "code",
   "execution_count": 21,
   "metadata": {},
   "outputs": [
    {
     "name": "stdout",
     "output_type": "stream",
     "text": [
      "a =1 4315700168\n",
      "b =1 4315700168\n",
      "\n",
      "a = 1 4315700168\n",
      "b = 2 4315700200\n"
     ]
    }
   ],
   "source": [
    "a = 1 \n",
    "b = a \n",
    "\n",
    "print(f'{a =}', id(a))\n",
    "print(f'{b =}', id(b))\n",
    "\n",
    "print()\n",
    "b = 2\n",
    "print(f'{a = }', id(a))\n",
    "print(f'{b = }', id(b))\n"
   ]
  },
  {
   "cell_type": "code",
   "execution_count": 25,
   "metadata": {},
   "outputs": [
    {
     "name": "stdout",
     "output_type": "stream",
     "text": [
      "cat_a = <__main__.Cat object at 0x106deea50> 0x106deea50\n",
      "\n",
      "cat_a.name = 'Bill' 4407060720\n",
      "cat_b.name = 'Bill' 4376715824\n",
      "\n",
      "cat_a.name = 'Bully' 4407058000\n",
      "cat_b.name = 'Bully' 4410448496\n",
      "\n",
      "cat_a.name = 'Måns' 4410226000\n",
      "cat_b.name = 'Bully' 4410448496\n"
     ]
    }
   ],
   "source": [
    "class Cat:\n",
    "    def __init__(self, name):\n",
    "        self.name = name\n",
    "\n",
    "cat_a = Cat('Bill')\n",
    "\n",
    "print(f'{cat_a = }', hex(id(cat_a)))\n",
    "print()\n",
    "\n",
    "cat_b = cat_a\n",
    "print(f'{cat_a.name = }', id(id(cat_a.name)))\n",
    "print(f'{cat_b.name = }', id(cat_b.name))\n",
    "\n",
    "print()\n",
    "cat_b.name = 'Bully'\n",
    "print(f'{cat_a.name = }', id(id(cat_a.name)))\n",
    "print(f'{cat_b.name = }', id(cat_b.name))\n",
    "\n",
    "print()\n",
    "cat_a = Cat(\"Måns\")\n",
    "\n",
    "print(f\"{cat_a.name = }\", id(cat_a.name))\n",
    "print(f\"{cat_b.name = }\", id(cat_b.name))"
   ]
  },
  {
   "cell_type": "markdown",
   "metadata": {},
   "source": [
    "# References can be more than just names. \n",
    "\n",
    "Anything that can appear on the left-hand side of an assignment statement is a reference, such as:\n",
    "  \n",
    "- list items \n",
    "- dictionary keys and values \n",
    "- object attributes \n",
    "- ...and so on"
   ]
  },
  {
   "cell_type": "code",
   "execution_count": 23,
   "metadata": {},
   "outputs": [
    {
     "name": "stdout",
     "output_type": "stream",
     "text": [
      "a = [1, 2, 3] 4410450048\n",
      "b = [1, 2, 3] 4410450048\n",
      "\n",
      "a == b = True\n",
      "a is b = True\n",
      "\n",
      "a = [1, 2, 3] 4410450048\n",
      "b = [1, 2, 3] 4410450048\n",
      "\n",
      "a == b = True\n",
      "a is b = False\n",
      "\n",
      "a = [1, 2, 3] 4410450048\n",
      "b = [1, 2, 3, 5] 4410451648\n"
     ]
    }
   ],
   "source": [
    "a = [1, 2, 3]\n",
    "b = a \n",
    "\n",
    "print(f'{a = }', id(a))\n",
    "print(f'{b = }', id(a))\n",
    "print()\n",
    "print(f'{a == b = }')\n",
    "print(f'{a is b = }')\n",
    "\n",
    "print()\n",
    "b = a.copy()\n",
    "print(f'{a = }', id(a))\n",
    "print(f'{b = }', id(a))\n",
    "\n",
    "print()\n",
    "print(f'{a == b = }')\n",
    "print(f'{a is b = }')\n",
    "\n",
    "print()\n",
    "b.append(5)\n",
    "\n",
    "print(f'{a = }', id(a))\n",
    "print(f'{b = }', id(b))"
   ]
  },
  {
   "cell_type": "markdown",
   "metadata": {},
   "source": [
    "# Identity VS equality\n",
    "\n",
    "- The **is** operator checks whether two variables refer to the same object. \n",
    "- The == operator checks whether the value of two variables are equal."
   ]
  },
  {
   "cell_type": "code",
   "execution_count": 32,
   "metadata": {},
   "outputs": [
    {
     "name": "stdout",
     "output_type": "stream",
     "text": [
      "cat_a.name = 'Pelle' 4410262032\n",
      "cat_b.name = 'Pelle' 4376430544\n",
      "\n",
      "cat_a.name = 'Pelle' 4410262032\n",
      "cat_b.name = 'Måns' 4376430544\n",
      "\n",
      "cat_a.name = 'Pelle' 4410271168\n",
      "cat_b.name = 'Måns' 4410271168\n",
      "\n",
      "\n",
      "cat_a.name = 'Pelle' 4410271168\n",
      "cat_b.name = 'Pelle' 4410335040\n"
     ]
    }
   ],
   "source": [
    "import copy\n",
    "\n",
    "cat_a = Cat('Pelle')\n",
    "cat_a.friends = ['Bill', 'Bull']\n",
    "\n",
    "cat_b = copy.copy(cat_a)\n",
    "\n",
    "print(f'{cat_a.name = }', id(cat_a))\n",
    "print(f'{cat_b.name = }', id(cat_b))\n",
    "\n",
    "print()\n",
    "cat_b.name = 'Måns'\n",
    "print(f'{cat_a.name = }', id(cat_a))\n",
    "print(f'{cat_b.name = }', id(cat_b))\n",
    "\n",
    "print()\n",
    "cat_b.friends.append('Pelle')\n",
    "print(f'{cat_a.name = }', id(cat_a.friends))\n",
    "print(f'{cat_b.name = }', id(cat_b.friends ))\n",
    "\n",
    "print()\n",
    "cat_b = copy.deepcopy(cat_a)\n",
    "\n",
    "print()\n",
    "cat_b.friends.append('Måns')\n",
    "\n",
    "print(f'{cat_a.name = }', id(cat_a.friends))\n",
    "print(f'{cat_b.name = }', id(cat_b.friends ))"
   ]
  },
  {
   "cell_type": "markdown",
   "metadata": {},
   "source": [
    "# Shallow VS Deepcopy\n",
    "\n",
    "- Assignment atatements in Python do not create copies of the objects, they only bind names to an object.\n",
    "- A **shallow copy** means constructing a new collection object and then populating it with references to the child objects found in the original. In essence, a shallow copy is only one level deep. The copying process does not recurse and therefore won't create copies of the child objects themselves.\n",
    "- A **deepcopy** makes the copying process recursive. It means first constructing a new collecton object and then recursively pupulating it whit copies of the child objects found in the original. Copying an object this way walks the whole object tree to create a fully independent clone of the original object and all of its children. "
   ]
  },
  {
   "cell_type": "code",
   "execution_count": 37,
   "metadata": {},
   "outputs": [
    {
     "name": "stdout",
     "output_type": "stream",
     "text": [
      "True\n",
      "This is my function.\n",
      "This is my function.\n",
      "Now my_func refers to a new function!\n",
      "This is my function.\n"
     ]
    }
   ],
   "source": [
    "def my_func():\n",
    "    print('This is my function.')\n",
    "\n",
    "print(callable(my_func))\n",
    "\n",
    "my_func()\n",
    "\n",
    "olso_my_func = my_func\n",
    "olso_my_func()\n",
    "\n",
    "def my_func():\n",
    "    print('Now my_func refers to a new function!')\n",
    "\n",
    "my_func()\n",
    "olso_my_func()"
   ]
  },
  {
   "cell_type": "markdown",
   "metadata": {},
   "source": [
    "# Lots of things ae assignments \n",
    "\n",
    "Just as many things can serve as reference, there are many operations in Py that are assignments. \n",
    "\n",
    "Each of these lines i an assignment to the name X:\n"
   ]
  },
  {
   "cell_type": "code",
   "execution_count": null,
   "metadata": {},
   "outputs": [],
   "source": [
    "X = ...\n",
    "for X  in ...\n",
    "[...for X in ...]\n",
    "def X (...):\n",
    "class X:\n",
    "import X\n",
    "from ...import X \n",
    "with ... as X\n"
   ]
  },
  {
   "cell_type": "markdown",
   "metadata": {},
   "source": [
    "It's not that these statements act kind of like assignments, but that they are real assignments. They all make the name X, refer to an object, and every fact about assigniments applies to all of them.\n"
   ]
  },
  {
   "cell_type": "code",
   "execution_count": 38,
   "metadata": {},
   "outputs": [
    {
     "ename": "TypeError",
     "evalue": "'int' object is not callable",
     "output_type": "error",
     "traceback": [
      "\u001b[0;31m---------------------------------------------------------------------------\u001b[0m",
      "\u001b[0;31mTypeError\u001b[0m                                 Traceback (most recent call last)",
      "\u001b[1;32m/Users/valentin/Documents/valentAIn/python-programming-Valentin-Cochiorca/Code-Along/L_029_NameBinding.ipynb Cell 15\u001b[0m line \u001b[0;36m2\n\u001b[1;32m      <a href='vscode-notebook-cell:/Users/valentin/Documents/valentAIn/python-programming-Valentin-Cochiorca/Code-Along/L_029_NameBinding.ipynb#X21sZmlsZQ%3D%3D?line=0'>1</a>\u001b[0m \u001b[39mprint\u001b[39m \u001b[39m=\u001b[39m \u001b[39m5\u001b[39m\n\u001b[0;32m----> <a href='vscode-notebook-cell:/Users/valentin/Documents/valentAIn/python-programming-Valentin-Cochiorca/Code-Along/L_029_NameBinding.ipynb#X21sZmlsZQ%3D%3D?line=1'>2</a>\u001b[0m \u001b[39mprint\u001b[39;49m(\u001b[39m'\u001b[39;49m\u001b[39mHello World\u001b[39;49m\u001b[39m'\u001b[39;49m)\n",
      "\u001b[0;31mTypeError\u001b[0m: 'int' object is not callable"
     ]
    }
   ],
   "source": [
    "print = 5\n",
    "print('Hello World')"
   ]
  },
  {
   "cell_type": "code",
   "execution_count": 39,
   "metadata": {},
   "outputs": [
    {
     "name": "stdout",
     "output_type": "stream",
     "text": [
      "Hello World\n"
     ]
    }
   ],
   "source": [
    "del print\n",
    "print('Hello World')"
   ]
  },
  {
   "cell_type": "code",
   "execution_count": 44,
   "metadata": {},
   "outputs": [
    {
     "name": "stdout",
     "output_type": "stream",
     "text": [
      "Hello world\n",
      "HELLO WORLD\n",
      "hello world\n"
     ]
    }
   ],
   "source": [
    "def my_func(function, string):\n",
    "    function(string)\n",
    "\n",
    "my_func(print, \"Hello world\")\n",
    "\n",
    "def my_func(function, string):\n",
    "    return function(string)\n",
    "\n",
    "print(my_func(str.upper, \"Hello world\"))\n",
    "print(my_func(str.lower, \"Hello world\"))\n",
    "\n"
   ]
  },
  {
   "cell_type": "code",
   "execution_count": 45,
   "metadata": {},
   "outputs": [
    {
     "name": "stdout",
     "output_type": "stream",
     "text": [
      "HELLO WORLD\n",
      "hello world\n",
      "Hello world\n",
      "Hello World\n"
     ]
    }
   ],
   "source": [
    "methods = [str.upper, str.lower, str.capitalize, str.title]\n",
    "\n",
    "for method in methods:\n",
    "    print(method('Hello World'))"
   ]
  },
  {
   "cell_type": "code",
   "execution_count": 47,
   "metadata": {},
   "outputs": [
    {
     "data": {
      "text/plain": [
       "[23.0, 54.0, 1.0]"
      ]
     },
     "execution_count": 47,
     "metadata": {},
     "output_type": "execute_result"
    }
   ],
   "source": [
    "list(map(float, ['23', '54', '1']))"
   ]
  },
  {
   "cell_type": "code",
   "execution_count": 48,
   "metadata": {},
   "outputs": [
    {
     "data": {
      "text/plain": [
       "['kiwi', 'apple', 'melon', 'orange', 'grapes', 'pineapple']"
      ]
     },
     "execution_count": 48,
     "metadata": {},
     "output_type": "execute_result"
    }
   ],
   "source": [
    "fruits = [\"apple\", \"orange\", \"melon\", \"kiwi\", \"pineapple\", \"grapes\"]\n",
    "\n",
    "sorted(fruits, key=len)"
   ]
  },
  {
   "cell_type": "markdown",
   "metadata": {},
   "source": [
    "# Python passes functions arguments by asssigning to them\n",
    "\n",
    "- Parameters are names used in a function\n",
    "- When calling a function, we provide the actual value to be used as the argument of the function.\n",
    "- These values are assigned to the parameter names just as if an assignmet statment had been used. "
   ]
  },
  {
   "cell_type": "code",
   "execution_count": 49,
   "metadata": {},
   "outputs": [
    {
     "data": {
      "text/plain": [
       "(8, 9)"
      ]
     },
     "execution_count": 49,
     "metadata": {},
     "output_type": "execute_result"
    }
   ],
   "source": [
    "def my_func(x, y):\n",
    "    return x, y\n",
    "my_func(8, 9)"
   ]
  },
  {
   "cell_type": "markdown",
   "metadata": {},
   "source": [
    "When my_func is called, the name **x** has 8 assigned to it, and name **y** has 9 assigned to it. \n",
    "That assignment work exactly the same exactly the same as the simple assignment staments we've been talking about. The name **x** and ***y** are local to the function, so when the function returns, those names goes away. But if the values they refer to are still reference by other name, the values lives on.\n",
    "\n",
    "Just like every other assignment, mutable values can be passed into function, amd changes to the value will be visible through all of its names."
   ]
  },
  {
   "cell_type": "code",
   "execution_count": 53,
   "metadata": {},
   "outputs": [
    {
     "name": "stdout",
     "output_type": "stream",
     "text": [
      "Pelle\n",
      "Måns\n"
     ]
    }
   ],
   "source": [
    "def my_func(cat): \n",
    "    cat.name = 'Måns'\n",
    "\n",
    "cat_a = Cat('Pelle')\n",
    "print(cat_a.name)\n",
    "my_func(cat_a)\n",
    "print(cat_a.name)"
   ]
  },
  {
   "cell_type": "code",
   "execution_count": 59,
   "metadata": {},
   "outputs": [
    {
     "name": "stdout",
     "output_type": "stream",
     "text": [
      "['A', 'B', 'C']\n",
      "\n",
      "['E', 'D']\n",
      "\n",
      "['E', 'D']\n"
     ]
    }
   ],
   "source": [
    "def set_list(list):\n",
    "    list = ['A', 'B', 'C']\n",
    "    return list\n",
    "\n",
    "def append_list(list):\n",
    "    list.append('D')\n",
    "    return list \n",
    "\n",
    "my_list = ['E']\n",
    "\n",
    "\n",
    "\n",
    "print(set_list(my_list))\n",
    "print()\n",
    "print(append_list(my_list))\n",
    "print()\n",
    "print(my_list)\n"
   ]
  }
 ],
 "metadata": {
  "kernelspec": {
   "display_name": "python-programming-Valentin-Cochiorca-26LKhRSU",
   "language": "python",
   "name": "python3"
  },
  "language_info": {
   "codemirror_mode": {
    "name": "ipython",
    "version": 3
   },
   "file_extension": ".py",
   "mimetype": "text/x-python",
   "name": "python",
   "nbconvert_exporter": "python",
   "pygments_lexer": "ipython3",
   "version": "3.11.5"
  },
  "orig_nbformat": 4
 },
 "nbformat": 4,
 "nbformat_minor": 2
}
