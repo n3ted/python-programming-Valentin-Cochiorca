{
 "cells": [
  {
   "cell_type": "markdown",
   "metadata": {},
   "source": [
    "# f-Strings (formatted string literals)\n",
    "- literal starts whit f or F.\n",
    "- variables or expressions can be inserted using {  }\n",
    "- use = after the expression to print expression and result(not only result )\n",
    "- quotes can be used inside expression as long as they differ from the quotetype of the f-string\n",
    "\n",
    "  "
   ]
  },
  {
   "cell_type": "code",
   "execution_count": 4,
   "metadata": {},
   "outputs": [
    {
     "name": "stdout",
     "output_type": "stream",
     "text": [
      "Hello Valle\n",
      "13\n",
      "5 + 8 = 13\n",
      "Hej, 'VAlle'.\n",
      "Hej, \"VAlle\".\n",
      "Hej, \"Valle'.\n"
     ]
    }
   ],
   "source": [
    "name = input(\"Enter your name:\")\n",
    "myString = f\"Hello {name}\"\n",
    "print(myString)\n",
    "\n",
    "print(f\"{5 + 8}\")\n",
    "\n",
    "print(f\"{5 + 8 = }\") # use = after the expression to print expression and result(not only result )\n",
    "\n",
    "print(f\"Hej, 'VAlle'.\")\n",
    "print('Hej, \"VAlle\".')\n",
    "\n",
    "print(f\"Hej, \\\"Valle'.\")"
   ]
  },
  {
   "cell_type": "markdown",
   "metadata": {},
   "source": [
    "- For padding and alignment, use **:{padding character (default space)}{alignment}{width}**\n",
    "- Alignments: Left <, Center ^, Right >. Default alignments left for string, right for nummerics\n"
   ]
  },
  {
   "cell_type": "code",
   "execution_count": 20,
   "metadata": {},
   "outputs": [
    {
     "name": "stdout",
     "output_type": "stream",
     "text": [
      "Fristname           Lastname\n",
      "Valentin            Cochiorca\n",
      "      Valentin      Cochiorca\n",
      "<<<<<<<<<<<<ValentinCochiorca\n",
      "xxxxxxxxxxxxValentinCochiorca\n",
      "Valentin            Cochiorca\n",
      "                  33Cochiorca\n",
      "3.00000\n",
      "1.00e+06\n",
      "78.00%\n"
     ]
    }
   ],
   "source": [
    "first_name = \"Valentin\"\n",
    "last_name = \"Cochiorca\"\n",
    "\n",
    "print(f\"{'Fristname':20}{'Lastname'}\")\n",
    "print(f\"{first_name:<20}{last_name}\")\n",
    "print(f\"{first_name:^20}{last_name}\")\n",
    "print(f\"{first_name:<>20}{last_name}\")\n",
    "print(f\"{first_name:x>20}{last_name}\")\n",
    "\n",
    "print(f\"{first_name:20}{last_name}\") #string left align default\n",
    "\n",
    "print(f\"{33:20}{last_name}\") # Nummerical right align default\n",
    "\n",
    "\n"
   ]
  },
  {
   "cell_type": "markdown",
   "metadata": {},
   "source": [
    "- Data type : Add data type after padding and alignment eg; x:<20.f\n",
    "- Data type format: Fix-point notation (f), Exponenent notation (e),Percentage(%) .(Default perecision is 6)\n",
    "- Use coma for thousands separation eg: (1000) or (1000:,.2f)"
   ]
  },
  {
   "cell_type": "code",
   "execution_count": 25,
   "metadata": {},
   "outputs": [
    {
     "name": "stdout",
     "output_type": "stream",
     "text": [
      "3.00000\n",
      "1.00e+06\n",
      "78.00%\n",
      "78.000%\n",
      "78.000000%\n",
      "1,000\n",
      "1,000,000.00\n"
     ]
    }
   ],
   "source": [
    "print(f\"{3:.5f}\") # Data type after padding and alignment\n",
    "\n",
    "print(f\"{1000000:.2e}\") # Exponent notation\n",
    "\n",
    "print(f\"{0.78:.2%}\") # Percentage notation\n",
    "print(f\"{0.78:.3%}\") # whit 3 decimal\n",
    "print(f\"{0.78:%}\") # Default precision 6 decimals \n",
    "\n",
    "print(f\"{1000:,}\") # thousand separation\n",
    "print(f\"{1000000:,.2f}\")\n",
    "\n",
    "\n"
   ]
  }
 ],
 "metadata": {
  "kernelspec": {
   "display_name": "python-programming-Valentin-Cochiorca-26LKhRSU",
   "language": "python",
   "name": "python3"
  },
  "language_info": {
   "codemirror_mode": {
    "name": "ipython",
    "version": 3
   },
   "file_extension": ".py",
   "mimetype": "text/x-python",
   "name": "python",
   "nbconvert_exporter": "python",
   "pygments_lexer": "ipython3",
   "version": "3.11.5"
  },
  "orig_nbformat": 4
 },
 "nbformat": 4,
 "nbformat_minor": 2
}
