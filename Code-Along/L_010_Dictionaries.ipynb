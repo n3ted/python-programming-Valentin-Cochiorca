{
 "cells": [
  {
   "cell_type": "markdown",
   "metadata": {},
   "source": [
    "# Dictionaries \n",
    "\n",
    "- Dictionaries are used to store data in **key-value pairs**.\n",
    "- Keys are used to access values, and they must be unique.\n",
    "- Only immutable types (eg. str, int, float, bool) can be used as keys. \n",
    "- Dictionaries are ordered and changeble."
   ]
  },
  {
   "cell_type": "code",
   "execution_count": 4,
   "metadata": {},
   "outputs": [
    {
     "name": "stdout",
     "output_type": "stream",
     "text": [
      "len(teacher) = 5\n",
      "removed_key = 38\n",
      "teacher = {'firstname': 'Valentin', 'secondname': 'Cochiorca', 'languages': ['Python', 'C#'], 'contact_info': {'telefon': '0762xxxxxx', 'email': ['valentin.ceo@gmail.com', 'valentin2006ls@yahoo.com', 'test_mail@yahoo.com']}, 'lenght': 1.78}\n"
     ]
    }
   ],
   "source": [
    "# Create an empty dictionary \n",
    "empty_dictionary = {}\n",
    "\n",
    "# Create dictionary whit items\n",
    "teacher = {\n",
    "    \"firstname\" : \"Valentin\",\n",
    "    \"secondname\": \"Cochiorca\",\n",
    "    \"age\" : 38,\n",
    "    \"languages\" : [\"Python\", \"C#\"],\n",
    "    \"contact_info\": {\n",
    "        \"telefon\" : \"0762xxxxxx\",\n",
    "        \"email\" : [\n",
    "            \"valentin.ceo@gmail.com\",\n",
    "            \"valentin2006ls@yahoo.com\",\n",
    "            \"test_mail@yahoo.com\"\n",
    "        ]\n",
    "\n",
    "    }\n",
    "\n",
    "}\n",
    "\n",
    "# Get the number of items in the dictionary\n",
    "print(f\"{len(teacher) = }\")\n",
    "\n",
    "# Add key to dictionary\n",
    "teacher[\"lenght\"] = 1.78\n",
    "\n",
    "# Remove key and return value from dictionary \n",
    "\n",
    "removed_key = teacher.pop(\"age\")\n",
    "print(f\"{removed_key = }\")\n",
    "\n",
    "print(f\"{teacher = }\")"
   ]
  },
  {
   "cell_type": "markdown",
   "metadata": {},
   "source": [
    "# Get Value using Key"
   ]
  },
  {
   "cell_type": "code",
   "execution_count": 6,
   "metadata": {},
   "outputs": [
    {
     "name": "stdout",
     "output_type": "stream",
     "text": [
      "No key found!\n"
     ]
    }
   ],
   "source": [
    "key = input(\"Enter key:\")\n",
    "\n",
    "if key in teacher:\n",
    "    print(teacher[key])\n",
    "else:\n",
    "    print(\"No key found!\")"
   ]
  },
  {
   "cell_type": "code",
   "execution_count": 8,
   "metadata": {},
   "outputs": [
    {
     "name": "stdout",
     "output_type": "stream",
     "text": [
      "1.78\n"
     ]
    }
   ],
   "source": [
    "key = input(\"Enter key:\")\n",
    "print(teacher.get(key, \"No key found!\"))"
   ]
  },
  {
   "cell_type": "markdown",
   "metadata": {},
   "source": [
    "# Looping through a dictionary "
   ]
  },
  {
   "cell_type": "code",
   "execution_count": 9,
   "metadata": {},
   "outputs": [
    {
     "name": "stdout",
     "output_type": "stream",
     "text": [
      "firstname\n",
      "secondname\n",
      "languages\n",
      "contact_info\n",
      "lenght\n",
      "\n"
     ]
    }
   ],
   "source": [
    "for key in teacher.keys():\n",
    "    print(key)\n",
    "\n",
    "print()"
   ]
  },
  {
   "cell_type": "code",
   "execution_count": 10,
   "metadata": {},
   "outputs": [
    {
     "name": "stdout",
     "output_type": "stream",
     "text": [
      "Valentin\n",
      "Cochiorca\n",
      "['Python', 'C#']\n",
      "{'telefon': '0762xxxxxx', 'email': ['valentin.ceo@gmail.com', 'valentin2006ls@yahoo.com', 'test_mail@yahoo.com']}\n",
      "1.78\n"
     ]
    }
   ],
   "source": [
    "for value in teacher.values():\n",
    "    print(value)"
   ]
  },
  {
   "cell_type": "code",
   "execution_count": 11,
   "metadata": {},
   "outputs": [
    {
     "name": "stdout",
     "output_type": "stream",
     "text": [
      "firstname = Valentin \n",
      "secondname = Cochiorca \n",
      "languages = ['Python', 'C#'] \n",
      "contact_info = {'telefon': '0762xxxxxx', 'email': ['valentin.ceo@gmail.com', 'valentin2006ls@yahoo.com', 'test_mail@yahoo.com']} \n",
      "lenght = 1.78 \n"
     ]
    }
   ],
   "source": [
    "for key in teacher:\n",
    "    print(f\"{key} = {teacher[key]} \")"
   ]
  },
  {
   "cell_type": "code",
   "execution_count": 14,
   "metadata": {},
   "outputs": [
    {
     "name": "stdout",
     "output_type": "stream",
     "text": [
      "firstname = Valentin\n",
      "secondname = Cochiorca\n",
      "languages = ['Python', 'C#']\n",
      "contact_info = {'telefon': '0762xxxxxx', 'email': ['valentin.ceo@gmail.com', 'valentin2006ls@yahoo.com', 'test_mail@yahoo.com']}\n",
      "lenght = 1.78\n"
     ]
    }
   ],
   "source": [
    "for key,value in teacher.items():\n",
    "    print(f\"{key} = {value}\")"
   ]
  }
 ],
 "metadata": {
  "kernelspec": {
   "display_name": "python-programming-Valentin-Cochiorca-26LKhRSU",
   "language": "python",
   "name": "python3"
  },
  "language_info": {
   "codemirror_mode": {
    "name": "ipython",
    "version": 3
   },
   "file_extension": ".py",
   "mimetype": "text/x-python",
   "name": "python",
   "nbconvert_exporter": "python",
   "pygments_lexer": "ipython3",
   "version": "3.11.5"
  },
  "orig_nbformat": 4
 },
 "nbformat": 4,
 "nbformat_minor": 2
}
