{
 "cells": [
  {
   "cell_type": "markdown",
   "metadata": {},
   "source": [
    "# Abstraction Levels \n",
    "\n",
    "In computing, an abstraction level or layer is a way of hiding the working details of a subsystem. When working on a low layer of abstraction we're dealing whit the fine details of the code, while, if we work on a high level of abstraction, the details are hidden from us, so we get more of an overview of the system."
   ]
  },
  {
   "cell_type": "markdown",
   "metadata": {},
   "source": [
    "# Functions \n",
    "\n",
    "- Function is a block of code that runs only when is called.\n",
    "- In Py a function is **defined** using the **def** keywork.\n",
    "- Definition must come before the call.\n",
    "- To call a function we use **function name** fallowed by **()**\n",
    "- One can pass data into a function, known as (**arguments**)\n",
    "- The number of arguments when calling must normally match the numbers of parameters of definition.\n",
    "- A function may return data as result."
   ]
  },
  {
   "cell_type": "code",
   "execution_count": 6,
   "metadata": {},
   "outputs": [
    {
     "name": "stdout",
     "output_type": "stream",
     "text": [
      "Hello Anna!\n",
      "Hello Geo!\n",
      "Hello Thomas!\n",
      "Hello Apple!\n",
      "Hello Cherry!\n",
      "Hello Bannana!\n",
      "\n",
      "Hello Marco!\n"
     ]
    }
   ],
   "source": [
    "def greet(name):\n",
    "    print(\"Hello \" + name + \"!\")\n",
    "\n",
    "def greet_people(people):\n",
    "    for person in people:\n",
    "        greet(person)\n",
    "\n",
    "users = [\"Anna\" , \"Geo\" , \"Thomas\"]\n",
    "\n",
    "greet_people(users)\n",
    "\n",
    "fruits = [\"Apple\", \"Cherry\", \"Bannana\"]\n",
    "\n",
    "greet_people(fruits)\n",
    "\n",
    "print()\n",
    "\n",
    "greet(\"Marco\")"
   ]
  },
  {
   "cell_type": "markdown",
   "metadata": {},
   "source": [
    "# Example of function returning a value"
   ]
  },
  {
   "cell_type": "code",
   "execution_count": 11,
   "metadata": {},
   "outputs": [
    {
     "name": "stdout",
     "output_type": "stream",
     "text": [
      "Valle\n",
      "Hello Jhon!\n"
     ]
    }
   ],
   "source": [
    "def get_greating(name):\n",
    "    greating = \"Hello \"+ name + \"!\"\n",
    "\n",
    "    if name == \"Valle\":\n",
    "        return name\n",
    "    else:\n",
    "        return greating\n",
    "\n",
    "print(get_greating(\"Valle\"))\n",
    "print(get_greating(\"Jhon\"))\n",
    "\n"
   ]
  },
  {
   "cell_type": "markdown",
   "metadata": {},
   "source": [
    "# Defaul Values \n",
    "\n",
    "If a default value is specified for a parameter, then we can omit that argument when we call the function."
   ]
  },
  {
   "cell_type": "code",
   "execution_count": 24,
   "metadata": {},
   "outputs": [
    {
     "name": "stdout",
     "output_type": "stream",
     "text": [
      "Hello Valle!\n",
      "\n",
      "Hello Jhon!\n",
      "Hello Jhon!\n",
      "Hello Jhon!\n"
     ]
    }
   ],
   "source": [
    "def greet(name, nr_of_times = 1):\n",
    "    for i in range(nr_of_times):\n",
    "        print(\"Hello \" + name + \"!\")\n",
    "\n",
    "greet(\"Valle\")\n",
    "print()\n",
    "greet(\"Jhon\", 3)\n"
   ]
  }
 ],
 "metadata": {
  "kernelspec": {
   "display_name": "python-programming-Valentin-Cochiorca-26LKhRSU",
   "language": "python",
   "name": "python3"
  },
  "language_info": {
   "codemirror_mode": {
    "name": "ipython",
    "version": 3
   },
   "file_extension": ".py",
   "mimetype": "text/x-python",
   "name": "python",
   "nbconvert_exporter": "python",
   "pygments_lexer": "ipython3",
   "version": "3.11.5"
  },
  "orig_nbformat": 4
 },
 "nbformat": 4,
 "nbformat_minor": 2
}
