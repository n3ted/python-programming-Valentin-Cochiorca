{
 "cells": [
  {
   "cell_type": "markdown",
   "metadata": {},
   "source": [
    "# Proprieties (sing. Property, sv. Egenskap)\n",
    "A property is a python construction (or OOP concept) that works similar to an attribute, with the difference that an attribute stores (and reads) the value directly to memory, while a property uses getter and setter methods to change the value of the property.\n",
    "\n",
    "From the \"outside\" (of the class definition) when a property of an object is set, the objects internal setter method will be called to handle the operation. This method is marked in the class definition by the decorator called {name}.setter (where \"name\" is the name of the property)\n",
    "\n",
    "When the property is read (from the \"outside\"), the object internal getter method will be called to return a value. The getter method is marked in the class definition by a decorator called @property "
   ]
  },
  {
   "cell_type": "code",
   "execution_count": 38,
   "metadata": {},
   "outputs": [],
   "source": [
    "class Employee:\n",
    "    def __init__(self, name, salary): # we can set a defaul eg. salary = 0\n",
    "        self.name = name\n",
    "        self.salary = salary\n",
    "     \n",
    "    @property          # getter method \n",
    "    def salary(self):\n",
    "        return self._salary\n",
    "\n",
    "    @salary.setter     # setter method \n",
    "    def salary(self, salary):\n",
    "        self._salary = 0 if salary < 0 else salary"
   ]
  },
  {
   "cell_type": "code",
   "execution_count": 29,
   "metadata": {},
   "outputs": [],
   "source": [
    "\n",
    "#    if salary < 0:\n",
    "#             self.salary = 0\n",
    "#         else:\n",
    "#              self.salary = salary\n",
    "\n",
    "# PI = 34.34 -> by convention is a constant \n",
    "\n",
    "# _variabel -> signal that is a private atribut(convention) -> dont change outside class definintion \n",
    "\n",
    "# employe._salary = -50 -> don't use this -> use instead class methods \n",
    "\n",
    "# _ underscore is just a marker to notify shoud't change utside the class\n",
    "\n",
    "# @ decorator eg. @property, @variabelname.setter\n",
    "\n",
    "# self._salary = 0 if salary < 0 else salary # turnary operator "
   ]
  },
  {
   "cell_type": "code",
   "execution_count": 39,
   "metadata": {},
   "outputs": [
    {
     "name": "stdout",
     "output_type": "stream",
     "text": [
      "0\n"
     ]
    }
   ],
   "source": [
    "employee = Employee('Valentin', 40000)\n",
    "employee2 = Employee('Brita', -40000)\n",
    "\n",
    "employee.salary = -5000 # value saves in self._salary in the setter method \n",
    "print(employee.salary)  # this will call the getter method and read the value \n",
    "\n",
    "## employee.salary = 50000 # set new atribute salary\n",
    "# employee.set_salary(50000)\n",
    "# employee2.set_salary(-40000)\n",
    "\n",
    "# print(employee.get_salary())\n",
    "# print(employee2.get_salary())"
   ]
  }
 ],
 "metadata": {
  "kernelspec": {
   "display_name": "python-programming-Valentin-Cochiorca-26LKhRSU",
   "language": "python",
   "name": "python3"
  },
  "language_info": {
   "codemirror_mode": {
    "name": "ipython",
    "version": 3
   },
   "file_extension": ".py",
   "mimetype": "text/x-python",
   "name": "python",
   "nbconvert_exporter": "python",
   "pygments_lexer": "ipython3",
   "version": "3.11.5"
  },
  "orig_nbformat": 4
 },
 "nbformat": 4,
 "nbformat_minor": 2
}
