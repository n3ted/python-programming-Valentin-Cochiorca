{
 "cells": [
  {
   "cell_type": "markdown",
   "metadata": {},
   "source": [
    "# Object oriented programing (OOP)\n",
    "\n",
    "- A \"class\" is blue print that can be used to create objects.\n",
    "- An \"instance\" is the actually object containing data and methods.(data is is the object not in class)"
   ]
  },
  {
   "cell_type": "code",
   "execution_count": 52,
   "metadata": {},
   "outputs": [],
   "source": [
    "class Test: # class name starts whit uppercase \n",
    "    ...     # ... for not getin' error (we tell we implement later)"
   ]
  },
  {
   "cell_type": "code",
   "execution_count": null,
   "metadata": {},
   "outputs": [],
   "source": [
    "student_one = ['Robert', 'Johansson', 34, 3.5]\n",
    "student_two = ['Alina', 'Jsson', 23, 6.1]\n",
    "\n",
    "studenter = [student_one, student_two]\n",
    "print(studenter)\n",
    "\n",
    "def set_grades(student ,grade):\n",
    "    student[3] = grade\n",
    "\n",
    "for student in studenter:\n",
    "    set_grades(student, 2.3)\n",
    "\n",
    "print(f'{studenter}')"
   ]
  },
  {
   "cell_type": "code",
   "execution_count": 49,
   "metadata": {},
   "outputs": [
    {
     "name": "stdout",
     "output_type": "stream",
     "text": [
      "Valentin Cochiorca\n",
      "Luana Wattson\n"
     ]
    }
   ],
   "source": [
    "student_a = {'FirstName' : 'Valentin', 'LastName' : 'Cochiorca', 'Age': 37, 'Grade' : 4.3 }\n",
    "student_b = {'FirstName' : 'Luana', 'LastName' : 'Wattson', 'Age' : 28, 'Grade' : 5.4 }\n",
    "\n",
    "students = [student_a, student_b]\n",
    "\n",
    "def set_grade(student, grade):\n",
    "    student['Grade'] = grade\n",
    "\n",
    "def get_name(student):\n",
    "    return f'{student[\"FirstName\"]} {student[\"LastName\"]}'\n",
    "\n",
    "for student in students: \n",
    "    set_grade(student, 2.0)\n",
    "    print(get_name(student))\n",
    "pass\n",
    "\n"
   ]
  },
  {
   "cell_type": "code",
   "execution_count": 60,
   "metadata": {},
   "outputs": [],
   "source": [
    "# class Student:\n",
    "#     def __init__(self):     # a method is specific for a place \n",
    "#         self.grade = 0.0    # self parameter is a referece of specific instance we create \n",
    "\n",
    "#     def set_grade(student, grade): # send in a student and grade\n",
    "#         student.grade = grade                   \n",
    "        "
   ]
  },
  {
   "cell_type": "code",
   "execution_count": 65,
   "metadata": {},
   "outputs": [],
   "source": [
    "class Student:\n",
    "    def __init__(self, name, grade):    \n",
    "        self.grade = grade  \n",
    "        self.name = name    \n",
    "\n",
    "    def set_grade(self, grade): # method -> self always first \n",
    "        self.grade = grade      # this method works only on obj of type student             "
   ]
  },
  {
   "cell_type": "code",
   "execution_count": 68,
   "metadata": {},
   "outputs": [
    {
     "name": "stdout",
     "output_type": "stream",
     "text": [
      "{'grade': 33, 'name': 'Valentin'}\n",
      "{'grade': 23, 'name': 'Annalena'}\n",
      "\n",
      "{'grade': 5.3, 'name': 'Valentin'}\n",
      "{'grade': 6.5, 'name': 'Annalena'}\n"
     ]
    }
   ],
   "source": [
    "student_a = Student('Valentin' , 33) # send argument \n",
    "student_b = Student('Annalena', 23)\n",
    "\n",
    "print(student_a.__dict__)\n",
    "print(student_b.__dict__)\n",
    "\n",
    "student_a.set_grade(5.3)  # student_a is first parameter -> 5.3 is second parameter\n",
    "student_b.set_grade(6.5)  # that sends in the class method \n",
    "\n",
    "# Student.set_grade(student_a, 4.5)  -> we can use this \n",
    "print()\n",
    "print(student_a.__dict__)\n",
    "print(student_b.__dict__)"
   ]
  },
  {
   "cell_type": "code",
   "execution_count": null,
   "metadata": {},
   "outputs": [],
   "source": [
    "# student_a = Student() # create an instance of the object\n",
    "# student_b = Student()\n",
    "\n",
    "# student_a.name = 'Valentin' # make an atribut  .variabelname\n",
    "# student_a.age = 37\n",
    "# student_a.dict = {'FirstName' : 'Valentin', 'LastName' : 'Cochiorca', 'Age': 37, 'Grade' : 4.3 }\n",
    "# student_b.name = 'Adriana'\n",
    "# student_a.age = 44\n",
    "# print(student_a.name)\n",
    "# print(student_b.name)\n",
    "\n",
    "# print(student_a.__dict__) # show that behing the obj is a dictionary"
   ]
  },
  {
   "cell_type": "code",
   "execution_count": 71,
   "metadata": {},
   "outputs": [
    {
     "data": {
      "text/plain": [
       "'VALENTIN'"
      ]
     },
     "execution_count": 71,
     "metadata": {},
     "output_type": "execute_result"
    }
   ],
   "source": [
    "name = 'valentin'\n",
    "\n",
    "type(name)\n",
    "name.upper() # use upper method "
   ]
  },
  {
   "cell_type": "markdown",
   "metadata": {},
   "source": [
    " # Example "
   ]
  },
  {
   "cell_type": "code",
   "execution_count": 2,
   "metadata": {},
   "outputs": [],
   "source": [
    "class Cat:\n",
    "    def __init__(self, name, age): # __init__ runs when instance of the class is created\n",
    "        self.name = name\n",
    "        self.age = age # set to what we want whitout sending in something \n",
    "        self.best_friend = None # intern \n",
    "\n",
    "    def greet_other(self,other):\n",
    "        print(f\"Hi,{other.name}, my name is {self.name}\", end=\" \")\n",
    "        if other.age < self.age:\n",
    "            print(f\"and i'm {self.age - other.age} year older than!\")\n",
    "        \n",
    "        elif self.age < other.age:\n",
    "            print(f\"and im {other.age - self.age} year younger than you!\")\n",
    "        else:\n",
    "            print(f\"and we are both {self.age} year old!\")\n",
    "\n",
    "    def greet(self, other = None): \n",
    "        if other == None:         \n",
    "            print(f\"Hello I'm {self.name}, and I'm {self.age} years old!\")\n",
    "        else:\n",
    "            self.greet_other(other)\n",
    "\n",
    "    def print_best_friend(self):\n",
    "        if not hasattr(self, 'best_friend'): return\n",
    "        if self.best_friend is None: return\n",
    "        print(f\"My name is, {self.name}, and my friend is {self.best_friend.name}\")\n",
    "\n",
    "        \n",
    "        \n"
   ]
  },
  {
   "cell_type": "code",
   "execution_count": 3,
   "metadata": {},
   "outputs": [
    {
     "name": "stdout",
     "output_type": "stream",
     "text": [
      "My name is, Misse, and my friend is Mjau\n",
      "My name is, Kisse, and my friend is Kisse\n",
      "My name is, Mjau, and my friend is Misse\n",
      "Hello I'm Misse, and I'm 3 years old!\n",
      "Hello I'm Kisse, and I'm 2 years old!\n",
      "Hi,Kisse, my name is Misse and i'm 1 year older than!\n",
      "Hi,Mjau, my name is Misse and im 2 year younger than you!\n",
      "Hi,Jens, my name is Misse and we are both 3 year old!\n"
     ]
    }
   ],
   "source": [
    "my_cat = Cat(\"Misse\", 3)\n",
    "my_other_cat = Cat(\"Kisse\", 2)\n",
    "my_third_cat = Cat(\"Mjau\", 5)\n",
    "my_fourth_cat = Cat(\"Jens\", 3)\n",
    "\n",
    "my_cat.best_friend = my_third_cat\n",
    "my_other_cat.best_friend = my_other_cat\n",
    "my_third_cat.best_friend = my_cat\n",
    "my_fourth_cat.best_friend = None\n",
    "\n",
    "cats = [my_cat, my_other_cat, my_third_cat, my_fourth_cat]\n",
    "\n",
    "for cat in cats:\n",
    "    cat.print_best_friend()\n",
    "\n",
    "# My name is Misse, and my best friend is Mjau.\n",
    "\n",
    "my_cat.greet() # call a method from the class Cat\n",
    "my_other_cat.greet()\n",
    "# Hello, I'm Misse, and I'm 3 years old\n",
    "\n",
    "my_cat.greet(my_other_cat)\n",
    "my_cat.greet(my_third_cat)\n",
    "my_cat.greet(my_fourth_cat)\n",
    "# Hi Kisse, my name is Misse, and I'm 1 year older than you."
   ]
  },
  {
   "cell_type": "code",
   "execution_count": 186,
   "metadata": {},
   "outputs": [
    {
     "name": "stdout",
     "output_type": "stream",
     "text": [
      "My name is, Misse, and my friend is Mjau\n",
      "My name is, Mjau, and my friend is Misse\n",
      "\n",
      "Hello I'm Misse, and I'm 3 years old!\n",
      "Hello I'm Kisse, and I'm 2 years old!\n",
      "Hello I'm Mjau, and I'm 5 years old!\n",
      "Hello I'm Jens, and I'm 3 years old!\n",
      "\n",
      "Hi,Kisse, my name is Misse and i'm 1 year older than!\n",
      "Hi,Mjau, my name is Misse and im 2 year younger than you!\n",
      "Hi,Jens, my name is Misse and we are both 3 year old!\n"
     ]
    }
   ],
   "source": [
    "cats = []\n",
    "cats.append(Cat('Misse', 3))\n",
    "cats.append(Cat('Kisse', 2))\n",
    "cats.append(Cat('Mjau', 5))\n",
    "cats.append(Cat('Jens', 3))\n",
    "\n",
    "\n",
    "cats[0].best_friend = cats[2]\n",
    "cats[1].best_friend = cats[1]\n",
    "cats[2].best_friend = cats[0]\n",
    "cats[1].best_friend = None\n",
    "\n",
    "\n",
    "for cat in cats:\n",
    "    cat.print_best_friend()\n",
    "print()\n",
    "for cat in cats: \n",
    "    cat.greet()\n",
    "print()\n",
    "for cat in cats[1:]:\n",
    "    cats[0].greet(cat)\n",
    "\n",
    "\n"
   ]
  },
  {
   "cell_type": "code",
   "execution_count": 180,
   "metadata": {},
   "outputs": [
    {
     "name": "stdout",
     "output_type": "stream",
     "text": [
      "Måns\n"
     ]
    }
   ],
   "source": [
    "student = Student('Kalle', 4.3)\n",
    "student.pet = Cat('Måns', 6)\n",
    "\n",
    "print(student.pet.name)"
   ]
  }
 ],
 "metadata": {
  "kernelspec": {
   "display_name": "python-programming-Valentin-Cochiorca-26LKhRSU",
   "language": "python",
   "name": "python3"
  },
  "language_info": {
   "codemirror_mode": {
    "name": "ipython",
    "version": 3
   },
   "file_extension": ".py",
   "mimetype": "text/x-python",
   "name": "python",
   "nbconvert_exporter": "python",
   "pygments_lexer": "ipython3",
   "version": "3.11.5"
  },
  "orig_nbformat": 4
 },
 "nbformat": 4,
 "nbformat_minor": 2
}
