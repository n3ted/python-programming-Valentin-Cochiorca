{
 "cells": [
  {
   "cell_type": "markdown",
   "metadata": {},
   "source": [
    "# Load and save data to files \n",
    "\n",
    "We can categorize files in 2 main categories, **text** and **binary** files.\n",
    "\n",
    "- Text files stores text/characters in a human redable format.\n",
    "- Binary files stores **byte data** (1's and 0's) that only computer can understand.\n",
    "\n",
    "# Common text based files to store data \n",
    "\n",
    "- **.txt** Plain language text.\n",
    "- **.csv** Comma Separated Values\n",
    "- **.json** Javascript Object Notation\n",
    "\n",
    "# File names and file paths\n",
    "\n",
    "A file name usually has two parts, the name, and the file extension, separated whit a dot (**name.extension**)\n",
    "\n",
    "e.g hello.txt data.json myimage.jpg\n",
    "\n",
    "Paths can be expressed as either relative or absolute:\n",
    "\n",
    "- **Absolute**: Full path to access a file or folder. Ex. C:\\users\\valentin\\desktop\\myfile.txt\n",
    "- **Relative**: Relative from the curent active folder. Ex. ..data\\data.json\n",
    "\n",
    "# File modes \n",
    "\n",
    "It's possibile to open a file in python in different modes:\n",
    "\n",
    "- **'r':** for reading \n",
    "- **'w':** for writing(overwrites everything in file)\n",
    "- **'a':** for appending (olso writing, but keeps existing content and appends new content at the end of file)"
   ]
  },
  {
   "cell_type": "markdown",
   "metadata": {},
   "source": [
    "# Open file for Reading "
   ]
  },
  {
   "cell_type": "code",
   "execution_count": 14,
   "metadata": {},
   "outputs": [
    {
     "name": "stdout",
     "output_type": "stream",
     "text": [
      "abcde\n",
      "\n"
     ]
    }
   ],
   "source": [
    "file = open(\"../Data/hello.txt\")\n",
    "\n",
    "content = file.read()\n",
    "\n",
    "print(content)\n",
    "\n",
    "file.close()\n",
    "\n"
   ]
  },
  {
   "cell_type": "markdown",
   "metadata": {},
   "source": [
    "# Open whit **Context Management**"
   ]
  },
  {
   "cell_type": "code",
   "execution_count": 13,
   "metadata": {},
   "outputs": [
    {
     "name": "stdout",
     "output_type": "stream",
     "text": [
      "abcde\n",
      "\n"
     ]
    }
   ],
   "source": [
    "with open(\"../Data/hello.txt\") as file:\n",
    "    content = file.read()\n",
    "    print(content)\n",
    "\n",
    "file.close()"
   ]
  },
  {
   "cell_type": "markdown",
   "metadata": {},
   "source": [
    "# Open file for **Writing**\n"
   ]
  },
  {
   "cell_type": "code",
   "execution_count": 17,
   "metadata": {},
   "outputs": [],
   "source": [
    "new_content = input(\"Input text:\")\n",
    "\n",
    "with open(\"../Data/hello.txt\", \"w\") as file:\n",
    "    file.write(new_content + '\\n')\n",
    "\n"
   ]
  },
  {
   "cell_type": "markdown",
   "metadata": {},
   "source": [
    "## Mini-uppgift\n",
    "Skapa ett program som har en tom lista. När programmet körs får användaren mata in namn (input) i en loop tills användaren matar in en tom rad. När den är klar så skriva alla namn ut på skärmen, samt sparas  till en fil (med ett namn på varje rad). Nästa gång man starta programmet så läser den in de befintliga namnen. "
   ]
  },
  {
   "cell_type": "code",
   "execution_count": 6,
   "metadata": {},
   "outputs": [
    {
     "name": "stdout",
     "output_type": "stream",
     "text": [
      "['jon', 'aly ', 'carin', 'bea', 'joly', 'marco']\n",
      "jon\n",
      "aly \n",
      "carin\n",
      "bea\n",
      "joly\n",
      "marco\n",
      "Names are saved!\n"
     ]
    }
   ],
   "source": [
    "with open(\"../Data/namelist.txt\") as file:\n",
    "    names = [name.strip(\"\\n\") for name in file.readlines()]\n",
    "\n",
    "\n",
    "while True:\n",
    "    name = input(\"Enter name: \")\n",
    "    if not name: break\n",
    "    names.append(name)\n",
    "print(names)\n",
    "\n",
    "for name in names:\n",
    "    print(name)\n",
    "\n",
    "with open(\"../Data/namelist.txt\", \"w\") as file:\n",
    "    file.writelines([name + '\\n' for name in names])\n",
    "print(\"Names are saved!\")"
   ]
  },
  {
   "cell_type": "markdown",
   "metadata": {},
   "source": [
    "# Write **.CSV** file \n"
   ]
  },
  {
   "cell_type": "code",
   "execution_count": 36,
   "metadata": {},
   "outputs": [
    {
     "name": "stdout",
     "output_type": "stream",
     "text": [
      "[{'name': 'Camilla', 'class': 'AI23', 'email': 'camilla@gmail.com'}, {'name': 'Artur', 'class': 'AI23', 'email': 'artur@gmail.com'}, {'name': 'Luca', 'class': 'AI23', 'email': 'luca@gmail.com'}]\n"
     ]
    }
   ],
   "source": [
    "students = [\n",
    "    {\"name\": \"Camilla\", \"class\": \"AI23\", \"email\": \"camilla@gmail.com\"},\n",
    "    {\"name\": \"Artur\", \"class\": \"AI23\", \"email\": \"artur@gmail.com\"},\n",
    "    {\"name\": \"Luca\", \"class\": \"AI23\", \"email\": \"luca@gmail.com\"}\n",
    "]\n",
    "\n",
    "print(students)\n",
    "\n",
    "with open(\"../Data/students.csv\", \"w\") as file:\n",
    "    for student in students:\n",
    "        file.write(f\"{student['name']}, {student['class']}, {student['email']}\\n\")"
   ]
  },
  {
   "cell_type": "markdown",
   "metadata": {},
   "source": [
    "# Using **.csv packages**"
   ]
  },
  {
   "cell_type": "code",
   "execution_count": 43,
   "metadata": {},
   "outputs": [
    {
     "name": "stdout",
     "output_type": "stream",
     "text": [
      "[{'name': 'Camilla', 'class': ' AI23', 'email': ' camilla@gmail.com'}, {'name': 'Artur', 'class': ' AI23', 'email': ' artur@gmail.com'}, {'name': 'Luca', 'class': ' AI23', 'email': ' luca@gmail.com'}]\n"
     ]
    }
   ],
   "source": [
    "import csv\n",
    "\n",
    "students = []\n",
    "\n",
    "with open(\"../Data/students.csv\") as file:\n",
    "    reader = csv.DictReader(file)\n",
    "\n",
    "    for row in reader:\n",
    "        students.append({\"name\": row[\"name\"], \"class\": row[\"class\"], \"email\": row[\"email\"]})\n",
    "\n",
    "print(students)\n"
   ]
  },
  {
   "cell_type": "markdown",
   "metadata": {},
   "source": [
    "# Json **serilialization** and **deserialization**"
   ]
  },
  {
   "cell_type": "code",
   "execution_count": 44,
   "metadata": {},
   "outputs": [],
   "source": [
    "import json\n",
    "\n",
    "teacher = {\n",
    "    \"firstname\" : \"Valentin\",\n",
    "    \"secondname\": \"Cochiorca\",\n",
    "    \"age\" : 38,\n",
    "    \"languages\" : [\"Python\", \"C#\"],\n",
    "    \"contact_info\": {\n",
    "        \"telefon\" : \"0762xxxxxx\",\n",
    "        \"email\" : [\n",
    "            \"valentin.ceo@gmail.com\",\n",
    "            \"valentin2006ls@yahoo.com\",\n",
    "            \"test_mail@yahoo.com\"\n",
    "        ]\n",
    "\n",
    "    }\n",
    "\n",
    "}\n",
    "\n",
    "serialized_data = json.dumps(teacher, indent=4)\n",
    "\n",
    "with open(\"../Data/teacher.json\", \"w\") as file:\n",
    "    file.write(serialized_data)\n",
    "\n"
   ]
  },
  {
   "cell_type": "code",
   "execution_count": 45,
   "metadata": {},
   "outputs": [
    {
     "name": "stdout",
     "output_type": "stream",
     "text": [
      "{'firstname': 'Valentin', 'secondname': 'Cochiorca', 'age': 38, 'languages': ['Python', 'C#'], 'contact_info': {'telefon': '0762xxxxxx', 'email': ['valentin.ceo@gmail.com', 'valentin2006ls@yahoo.com', 'test_mail@yahoo.com']}}\n"
     ]
    }
   ],
   "source": [
    "with open(\"../Data/teacher.json\", \"r\") as file:\n",
    "    data = file.read()\n",
    "\n",
    "teacher = json.loads(data)\n",
    "\n",
    "print(teacher)"
   ]
  }
 ],
 "metadata": {
  "kernelspec": {
   "display_name": "python-programming-Valentin-Cochiorca-26LKhRSU",
   "language": "python",
   "name": "python3"
  },
  "language_info": {
   "codemirror_mode": {
    "name": "ipython",
    "version": 3
   },
   "file_extension": ".py",
   "mimetype": "text/x-python",
   "name": "python",
   "nbconvert_exporter": "python",
   "pygments_lexer": "ipython3",
   "version": "3.11.5"
  },
  "orig_nbformat": 4
 },
 "nbformat": 4,
 "nbformat_minor": 2
}
