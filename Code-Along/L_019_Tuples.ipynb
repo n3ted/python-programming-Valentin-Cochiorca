{
 "cells": [
  {
   "cell_type": "markdown",
   "metadata": {},
   "source": [
    "# Tuples \n",
    "\n",
    "- Tuples are used to store multiple items in a single variable.\n",
    "- Tuple items are ordered, unchangeble, and allow duplicate values.\n",
    "- Tuple allows different data types, and a mix of data types.\n",
    "- Tuple items are indexed, the first item has index [0], the second item has index [2], and so on.\n",
    "- Tuples, are written whit **round brachets**. Ex. (), (1,), (2,), (3,) etc\n",
    "  "
   ]
  },
  {
   "cell_type": "code",
   "execution_count": 12,
   "metadata": {},
   "outputs": [
    {
     "name": "stdout",
     "output_type": "stream",
     "text": [
      "my_tuple[0] = 'John'\n",
      "my_list = ['John', 3, 'cochiorca']\n",
      "my_tuple = ('Valentin', 3, 'cochiorca')\n"
     ]
    }
   ],
   "source": [
    "# Create empty tuple\n",
    "empty_tuple = ()\n",
    "\n",
    "# Create tuple whit one item\n",
    "single_item_tuple = (1, )\n",
    "\n",
    "# Create tuple whit items\n",
    "my_tuple = ('John', 3, 'cochiorca')\n",
    "\n",
    "# Tuples can be indexed and sliced \n",
    "print(f'{my_tuple[0] = }')\n",
    "\n",
    "# But individual items in a tuple can't be altered \n",
    "# Ex: my_tuple[0] = 'Geronimo'\n",
    "\n",
    "# The workaround to alter items is to convert to list and back\n",
    "my_list = list(my_tuple)\n",
    "print(f'{my_list = }')\n",
    "\n",
    "my_list[0] = 'Valentin'\n",
    "\n",
    "my_tuple = tuple(my_list)\n",
    "print(f'{my_tuple = }')"
   ]
  },
  {
   "cell_type": "markdown",
   "metadata": {},
   "source": [
    "# Unpacking a tuple \n",
    "\n",
    "When we create a tuple, we normaly assign values to it. This is called \"packing\" a tuple. We are olso allowed to extract the values back into variable. This is called \"unpacking\".\n"
   ]
  },
  {
   "cell_type": "code",
   "execution_count": 13,
   "metadata": {},
   "outputs": [
    {
     "name": "stdout",
     "output_type": "stream",
     "text": [
      "name = 'Valentin'\n",
      "age = 3\n",
      "aftername = 'cochiorca'\n"
     ]
    }
   ],
   "source": [
    "name, age, aftername = my_tuple\n",
    "\n",
    "print(f'{name = }')\n",
    "print(f'{age = }')\n",
    "print(f'{aftername = }')\n"
   ]
  },
  {
   "cell_type": "markdown",
   "metadata": {},
   "source": [
    "# Looping through tuple"
   ]
  },
  {
   "cell_type": "code",
   "execution_count": 14,
   "metadata": {},
   "outputs": [
    {
     "name": "stdout",
     "output_type": "stream",
     "text": [
      "Valentin\n",
      "3\n",
      "cochiorca\n"
     ]
    }
   ],
   "source": [
    "for item in my_tuple:\n",
    "    print(item)\n",
    "    "
   ]
  },
  {
   "cell_type": "code",
   "execution_count": 15,
   "metadata": {},
   "outputs": [
    {
     "name": "stdout",
     "output_type": "stream",
     "text": [
      "Valentin\n",
      "3\n",
      "cochiorca\n"
     ]
    }
   ],
   "source": [
    "for i in range(len(my_tuple)):\n",
    "    print(my_tuple[i])"
   ]
  }
 ],
 "metadata": {
  "kernelspec": {
   "display_name": "python-programming-Valentin-Cochiorca-26LKhRSU",
   "language": "python",
   "name": "python3"
  },
  "language_info": {
   "codemirror_mode": {
    "name": "ipython",
    "version": 3
   },
   "file_extension": ".py",
   "mimetype": "text/x-python",
   "name": "python",
   "nbconvert_exporter": "python",
   "pygments_lexer": "ipython3",
   "version": "3.11.5"
  },
  "orig_nbformat": 4
 },
 "nbformat": 4,
 "nbformat_minor": 2
}
