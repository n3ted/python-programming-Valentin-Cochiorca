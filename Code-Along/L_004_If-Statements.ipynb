{
 "cells": [
  {
   "cell_type": "markdown",
   "metadata": {},
   "source": [
    "# If statements \n",
    "- **if** - Essential part of if-statement \n",
    "- **elif** - Zero, One, or More elif\n",
    "- **Else** - Zero, One "
   ]
  },
  {
   "cell_type": "code",
   "execution_count": 1,
   "metadata": {},
   "outputs": [
    {
     "name": "stdout",
     "output_type": "stream",
     "text": [
      "Yes\n",
      "True\n"
     ]
    }
   ],
   "source": [
    "x = 5 \n",
    "name = \"Welle\"\n",
    "\n",
    "if x < 10 or name == \"John\": \n",
    "    print(\"Yes\")\n",
    "    print(\"True\")\n"
   ]
  },
  {
   "cell_type": "code",
   "execution_count": 3,
   "metadata": {},
   "outputs": [
    {
     "name": "stdout",
     "output_type": "stream",
     "text": [
      "No!\n",
      "False!\n"
     ]
    }
   ],
   "source": [
    "x = 15 \n",
    "name = \"Welle\"\n",
    "\n",
    "if x < 10 or name == \"John\": \n",
    "    print(\"Yes\")\n",
    "    print(\"True\")\n",
    "elif name == \"Kalle\":\n",
    "    print(\"Hello Kalle!\")\n",
    "elif name == \"Pelle\":\n",
    "    print(\"Hello Pelle!\")\n",
    "elif name == \"Anders\":\n",
    "    print(\"Hello Anders!\")\n",
    "else:\n",
    "    print(\"No!\")\n",
    "    print(\"False!\")"
   ]
  },
  {
   "cell_type": "markdown",
   "metadata": {},
   "source": [
    "# On line if statement \n",
    "\n",
    "-When the **if** statement is fallowed by only one statment\n"
   ]
  },
  {
   "cell_type": "code",
   "execution_count": 4,
   "metadata": {},
   "outputs": [
    {
     "name": "stdout",
     "output_type": "stream",
     "text": [
      "Yes!\n"
     ]
    }
   ],
   "source": [
    "name = \"Valle\"\n",
    "\n",
    "if x < 10 or name  == \"Valle\": print(\"Yes!\") # We make code shorter. More easy to read in some situations"
   ]
  },
  {
   "cell_type": "markdown",
   "metadata": {},
   "source": [
    "#Ternary operator \n",
    "\n",
    "-A special operator that take three operands and returns one or those choices dependind on if the middle expression evaluate to true or false (TrueValue if expression else FalseValue)"
   ]
  },
  {
   "cell_type": "code",
   "execution_count": 5,
   "metadata": {},
   "outputs": [
    {
     "name": "stdout",
     "output_type": "stream",
     "text": [
      "Fred ???\n",
      "Please wait 1 second \n"
     ]
    }
   ],
   "source": [
    "name = \"Fred\"\n",
    "lastname = (\"Johnsson\" if name == \"Valle\" else \"???\")\n",
    "\n",
    "print(f\"{name} {lastname}\")\n",
    "seconds = 1\n",
    "print(f\"Please wait {seconds} second {'s' if seconds != 1 else ''}\")"
   ]
  }
 ],
 "metadata": {
  "kernelspec": {
   "display_name": "python-programming-Valentin-Cochiorca-26LKhRSU",
   "language": "python",
   "name": "python3"
  },
  "language_info": {
   "codemirror_mode": {
    "name": "ipython",
    "version": 3
   },
   "file_extension": ".py",
   "mimetype": "text/x-python",
   "name": "python",
   "nbconvert_exporter": "python",
   "pygments_lexer": "ipython3",
   "version": "3.11.5"
  },
  "orig_nbformat": 4
 },
 "nbformat": 4,
 "nbformat_minor": 2
}
