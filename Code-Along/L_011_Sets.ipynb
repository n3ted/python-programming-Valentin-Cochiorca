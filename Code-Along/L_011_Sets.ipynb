{
 "cells": [
  {
   "cell_type": "markdown",
   "metadata": {},
   "source": [
    "# Sets \n",
    "\n",
    "- Sets intems are unordered, unchangeble and do not allow duplicate values.\n",
    "- Item can *not* be accessed using indexes or slicing.\n",
    "- Set items can be of any data type and can contain different data types."
   ]
  },
  {
   "cell_type": "code",
   "execution_count": 6,
   "metadata": {},
   "outputs": [
    {
     "name": "stdout",
     "output_type": "stream",
     "text": [
      "{1, 3, 4, 6, 9, 13, 15, 22, 24}\n",
      "len(set1) = 9\n",
      "set1 ={1, 3, 4, 6, 9, 15, 22, 24}\n"
     ]
    }
   ],
   "source": [
    "# Create empty set \n",
    "empty_set = set()\n",
    "\n",
    "# Create set whit values\n",
    "set1 = {1, 4, 6, 3, 13}\n",
    "\n",
    "# Add value to a set\n",
    "set1.add(15)\n",
    "\n",
    "set1.update({24, 9, 22})\n",
    "\n",
    "print(set1)\n",
    "\n",
    "# Get numbers of items in a set\n",
    "print(f\"{len(set1) = }\")\n",
    "\n",
    "# Remove element from set if exists\n",
    "set1.discard(13)\n",
    "\n",
    "# Print set\n",
    "print(f\"{set1 =}\")"
   ]
  },
  {
   "cell_type": "markdown",
   "metadata": {},
   "source": [
    "# Combining Sets\n",
    "\n",
    "Sets can be combined in several ways:\n",
    "\n",
    "- **Union**: Return a set that contains all items from both sets, duplicates are excluded.\n",
    "- **Intersection**: Return a set that contains items that exists in both sets.\n",
    "- **Difference **: Return a set that contains items that only exists in *set1* and not in *set2*.\n",
    "- **Symetric-Difference**: Returns a set that contains all items from both sets, except the ones that are present in both.\n",
    "   "
   ]
  },
  {
   "cell_type": "code",
   "execution_count": 10,
   "metadata": {},
   "outputs": [
    {
     "name": "stdout",
     "output_type": "stream",
     "text": [
      "set1 = {1, 3, 4, 6, 9, 15, 22, 24}\n",
      "set2 = {2, 4, 5, 7, 8, 11, 14}\n",
      "\n",
      "set1.union(set2) = {1, 2, 3, 4, 5, 6, 7, 8, 9, 11, 14, 15, 22, 24}\n",
      "set1.intersection(set2) = {4}\n",
      "set1.difference(set2) = {1, 3, 6, 9, 15, 22, 24}\n",
      "set1.symmetric_difference(set2) = {1, 2, 3, 5, 6, 7, 8, 9, 11, 14, 15, 22, 24}\n"
     ]
    }
   ],
   "source": [
    "set2 = {2, 4, 5, 7, 8, 11, 14}\n",
    "\n",
    "# Print the sets \n",
    "print(f\"{set1 = }\\n{set2 = }\\n\")\n",
    "\n",
    "print(f\"{set1.union(set2) = }\")\n",
    "print(f\"{set1.intersection(set2) = }\")\n",
    "print(f\"{set1.difference(set2) = }\")\n",
    "print(f\"{set1.symmetric_difference(set2) = }\")"
   ]
  }
 ],
 "metadata": {
  "kernelspec": {
   "display_name": "python-programming-Valentin-Cochiorca-26LKhRSU",
   "language": "python",
   "name": "python3"
  },
  "language_info": {
   "codemirror_mode": {
    "name": "ipython",
    "version": 3
   },
   "file_extension": ".py",
   "mimetype": "text/x-python",
   "name": "python",
   "nbconvert_exporter": "python",
   "pygments_lexer": "ipython3",
   "version": "3.11.5"
  },
  "orig_nbformat": 4
 },
 "nbformat": 4,
 "nbformat_minor": 2
}
