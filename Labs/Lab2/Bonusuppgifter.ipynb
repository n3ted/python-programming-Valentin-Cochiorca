{
 "cells": [
  {
   "cell_type": "markdown",
   "metadata": {},
   "source": [
    "# Bonusuppgifter\n",
    "\n",
    "1. Dela in ursprungsdatan slumpmässigt så att:\n",
    "- 100 är träningsdata (50 Pikachu, 50 Pichu)\n",
    "- 50 är testdata (25 Pikachu, 25 Pichu)\n",
    "  \n",
    "2. Beräkna noggranheten genom följande formel:\n",
    "accuracy = (#TP+#TN)/(total) där \n",
    "\n",
    "                Pikachu     Pichu \n",
    "                actual      actual \n",
    "___\n",
    "Pikachu\n",
    "predicted  &ensp; TP  &emsp;     &emsp;    FP\n",
    "___\n",
    "\n",
    "\n",
    "Pichu\n",
    "predicted       &emsp;    FN   &emsp;      &emsp;TN\n",
    "\n",
    "*Här har vi låtit Pikachu vara positiv och Pichu vara \"icke-Pikachu\" dvs negativ*\n",
    "\n",
    "3. Upprepa uppgift 3 och 4 tio gånger, plotta en graf över accuracy och rapportera medelaccuracy."
   ]
  },
  {
   "cell_type": "code",
   "execution_count": 2,
   "metadata": {},
   "outputs": [
    {
     "name": "stdout",
     "output_type": "stream",
     "text": [
      "Medelaccuracy är 0.5075008438751316\n"
     ]
    },
    {
     "data": {
      "image/png": "[encoded data removed]",
      "text/plain": [
       "<Figure size 640x480 with 1 Axes>"
      ]
     },
     "metadata": {},
     "output_type": "display_data"
    }
   ],
   "source": [
    "import random\n",
    "import matplotlib.pyplot as plt\n",
    "import math\n",
    "import numpy\n",
    "\n",
    "klass=['Pichu','Pikachu']\n",
    "def pythagora(b,c):\t\t# calculate hypotenusa\n",
    "\tx0,y0 = b\n",
    "\tx1,y1 = c\n",
    "\treturn math.sqrt((x0-x1)**2+(y0-y1)**2)\n",
    "def label(point,data):\t#return label from nearest datapoint\n",
    "\tshort = pythagora(point,[data[0][0],data[0][1]])\t# initiate short with first distance\n",
    "\ttyp = data[0][2]\t\t\t# initiate typ with first datapoint label\n",
    "\tfor datapoint in data:\t\t# iterate each datapoint\n",
    "\t\tdist = pythagora(point, [datapoint[0],datapoint[1]])# calculate distance for each testpoint\n",
    "\t\tif dist < short:\t\t# short take new value if is nearest\n",
    "\t\t\tshort = dist\t\t# typ take label from nearest\t\n",
    "\t\t\ttyp = datapoint[2]\n",
    "\treturn typ\t\t\t\t\t\t\t\n",
    "\n",
    "#start bonus\n",
    "def nogranheten():\n",
    "\tnew_datapoints = []\t\t# random 50-Pichu and 50-Pikachu \n",
    "\tfor i in range(50):\t\t# iterate 50\n",
    "\t\tfor k in klass:\t\t# every type\n",
    "\t\t\tnew_datapoints.append([random.uniform(16.5,28),random.uniform(28.5,40.5),k]) #append one random point for every type\n",
    "\trandom.shuffle(new_datapoints)\t# shuffle list\n",
    "\n",
    "\tT=0\t\t#T=True Pikachu + True Pichu (25+25)\n",
    "\ttotal=0\t\t#total tries - uppgift 4\n",
    "\tnew_testpoints = []\t# random testpoints 25-near Pichu and 25 near Pikachu\n",
    "\tfor k in klass:\t\t# every type\n",
    "\t\tn=0\t\t\t\t# n-initiate counter\n",
    "\t\twhile n<25:\t\t# repeat untill reach 25\n",
    "\t\t\tp = [random.uniform(16.5,28),random.uniform(28.5,40.5)]\t\t#p-random point\n",
    "\t\t\ttotal += 1\t# increment total\n",
    "\t\t\tif label(p,new_datapoints) == k:   # test if p is near type k (use function label)\n",
    "\t\t\t\tnew_testpoints.append(p)\t# add to list\n",
    "\t\t\t\tT +=1\t\t\t\t\t# increment true\n",
    "\t\t\t\tn +=1\t\t\t\t\t# increment counter\n",
    "\trandom.shuffle(new_testpoints)\t\t# shuffle list\n",
    "\treturn T/total\n",
    "\t\n",
    "accuracy = []\n",
    "\t\n",
    "for i in range(10):\n",
    "\taccuracy.append(nogranheten())\n",
    "plt.bar(range(1,11),accuracy)\n",
    "print('Medelaccuracy är ' + str(numpy.average(accuracy)))\n",
    "plt.show()\n"
   ]
  }
 ],
 "metadata": {
  "kernelspec": {
   "display_name": "python-programming-Valentin-Cochiorca-26LKhRSU",
   "language": "python",
   "name": "python3"
  },
  "language_info": {
   "codemirror_mode": {
    "name": "ipython",
    "version": 3
   },
   "file_extension": ".py",
   "mimetype": "text/x-python",
   "name": "python",
   "nbconvert_exporter": "python",
   "pygments_lexer": "ipython3",
   "version": "3.11.5"
  },
  "orig_nbformat": 4
 },
 "nbformat": 4,
 "nbformat_minor": 2
}
